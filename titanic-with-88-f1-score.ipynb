{
 "cells": [
  {
   "cell_type": "markdown",
   "id": "b30f56c3",
   "metadata": {
    "papermill": {
     "duration": 0.006797,
     "end_time": "2025-04-25T08:52:02.159132",
     "exception": false,
     "start_time": "2025-04-25T08:52:02.152335",
     "status": "completed"
    },
    "tags": []
   },
   "source": [
    "# **Titanic, disaster prediction**"
   ]
  },
  {
   "cell_type": "markdown",
   "id": "092e177e",
   "metadata": {
    "papermill": {
     "duration": 0.005429,
     "end_time": "2025-04-25T08:52:02.170889",
     "exception": false,
     "start_time": "2025-04-25T08:52:02.165460",
     "status": "completed"
    },
    "tags": []
   },
   "source": [
    "### **POWERED BY 42RandomState**"
   ]
  },
  {
   "cell_type": "markdown",
   "id": "b76a0c27",
   "metadata": {
    "papermill": {
     "duration": 0.005356,
     "end_time": "2025-04-25T08:52:02.183297",
     "exception": false,
     "start_time": "2025-04-25T08:52:02.177941",
     "status": "completed"
    },
    "tags": []
   },
   "source": [
    "In this notebook, we use the Titanic dataset to build various machine learning models to predict the survival probability of the passengers. We will follow these steps:\n",
    "- Data preprocessing.\n",
    "- Machine learning model creation and evaluation.\n",
    "- Hyperparameter optimization using RandomizedSearchCV.\n",
    "- Building an ensemble model (election classifier) ​​to get a final prediction."
   ]
  },
  {
   "cell_type": "markdown",
   "id": "39fc34bc",
   "metadata": {
    "papermill": {
     "duration": 0.005306,
     "end_time": "2025-04-25T08:52:02.194682",
     "exception": false,
     "start_time": "2025-04-25T08:52:02.189376",
     "status": "completed"
    },
    "tags": []
   },
   "source": [
    "## **1) Data analysis**"
   ]
  },
  {
   "cell_type": "markdown",
   "id": "c4ce5e20",
   "metadata": {
    "papermill": {
     "duration": 0.005422,
     "end_time": "2025-04-25T08:52:02.206020",
     "exception": false,
     "start_time": "2025-04-25T08:52:02.200598",
     "status": "completed"
    },
    "tags": []
   },
   "source": [
    "First let's take a look at the data, create new features and plot everything on graphs"
   ]
  },
  {
   "cell_type": "code",
   "execution_count": 1,
   "id": "25cd62da",
   "metadata": {
    "execution": {
     "iopub.execute_input": "2025-04-25T08:52:02.218879Z",
     "iopub.status.busy": "2025-04-25T08:52:02.218543Z",
     "iopub.status.idle": "2025-04-25T08:52:19.794470Z",
     "shell.execute_reply": "2025-04-25T08:52:19.793411Z"
    },
    "papermill": {
     "duration": 17.584306,
     "end_time": "2025-04-25T08:52:19.796235",
     "exception": false,
     "start_time": "2025-04-25T08:52:02.211929",
     "status": "completed"
    },
    "tags": []
   },
   "outputs": [
    {
     "name": "stderr",
     "output_type": "stream",
     "text": [
      "2025-04-25 08:52:03.892030: E external/local_xla/xla/stream_executor/cuda/cuda_fft.cc:477] Unable to register cuFFT factory: Attempting to register factory for plugin cuFFT when one has already been registered\n",
      "WARNING: All log messages before absl::InitializeLog() is called are written to STDERR\n",
      "E0000 00:00:1745571124.109696      13 cuda_dnn.cc:8310] Unable to register cuDNN factory: Attempting to register factory for plugin cuDNN when one has already been registered\n",
      "E0000 00:00:1745571124.170567      13 cuda_blas.cc:1418] Unable to register cuBLAS factory: Attempting to register factory for plugin cuBLAS when one has already been registered\n"
     ]
    }
   ],
   "source": [
    "import numpy as np\n",
    "import tensorflow as tf\n",
    "import pandas as pd\n",
    "import random\n",
    "import warnings\n",
    "warnings.filterwarnings('ignore')\n",
    "\n",
    "np.random.seed(42)\n",
    "random.seed(42)\n",
    "tf.random.set_seed(42)\n",
    "\n",
    "train_set = pd.read_csv('/kaggle/input/titanic/train.csv')\n",
    "test_set = pd.read_csv('/kaggle/input/titanic/test.csv')"
   ]
  },
  {
   "cell_type": "code",
   "execution_count": 2,
   "id": "093e1bf7",
   "metadata": {
    "execution": {
     "iopub.execute_input": "2025-04-25T08:52:19.809772Z",
     "iopub.status.busy": "2025-04-25T08:52:19.809434Z",
     "iopub.status.idle": "2025-04-25T08:52:19.833056Z",
     "shell.execute_reply": "2025-04-25T08:52:19.832094Z"
    },
    "papermill": {
     "duration": 0.03233,
     "end_time": "2025-04-25T08:52:19.834810",
     "exception": false,
     "start_time": "2025-04-25T08:52:19.802480",
     "status": "completed"
    },
    "tags": []
   },
   "outputs": [],
   "source": [
    "#CREATE NEW FEATURES IN THE TRAIN SET\n",
    "train_set['Title'] = train_set['Name'].str.extract(' ([A-Za-z]+)\\.', expand=False)\n",
    "rare_titles = ['Dr', 'Rev', 'Col', 'Major', 'Jonkheer', 'Sir', 'Lady', 'Don', 'Dona', 'Countess', 'Capt']\n",
    "train_set['Title'] = train_set['Title'].replace(rare_titles, 'Rare')\n",
    "train_set['CabinLetter'] = train_set['Cabin'].astype(str).str[0]\n",
    "train_set['TicketPrefix'] = train_set['Ticket'].apply(lambda x: x.split()[0] if not x.isdigit() else 'None')\n",
    "train_set['FamilySize'] = train_set['SibSp'] + train_set['Parch'] + 1\n",
    "train_set['IsAlone'] = (train_set['FamilySize'] == 1).astype(int)\n",
    "train_set['Age*Class'] = train_set['Age'] * train_set['Pclass']\n",
    "train_set['HadCabin'] = (train_set['Cabin'] != '') * 1\n",
    "train_set['FarePerPerson'] = train_set['Fare'] / train_set['FamilySize']"
   ]
  },
  {
   "cell_type": "code",
   "execution_count": 3,
   "id": "ad7d81de",
   "metadata": {
    "execution": {
     "iopub.execute_input": "2025-04-25T08:52:19.848590Z",
     "iopub.status.busy": "2025-04-25T08:52:19.847616Z",
     "iopub.status.idle": "2025-04-25T08:52:19.861749Z",
     "shell.execute_reply": "2025-04-25T08:52:19.860943Z"
    },
    "papermill": {
     "duration": 0.02243,
     "end_time": "2025-04-25T08:52:19.863329",
     "exception": false,
     "start_time": "2025-04-25T08:52:19.840899",
     "status": "completed"
    },
    "tags": []
   },
   "outputs": [],
   "source": [
    "#CREATE NEW FEATURES IN THE TEST SET\n",
    "test_set['Title'] = test_set['Name'].str.extract(' ([A-Za-z]+)\\.', expand=False)\n",
    "test_set['Title'] = test_set['Title'].replace(rare_titles, 'Rare')\n",
    "test_set['CabinLetter'] = test_set['Cabin'].astype(str).str[0]\n",
    "test_set['TicketPrefix'] = test_set['Ticket'].apply(lambda x: x.split()[0] if not x.isdigit() else 'None')\n",
    "test_set['FamilySize'] = test_set['SibSp'] + test_set['Parch'] + 1\n",
    "test_set['IsAlone'] = (test_set['FamilySize'] == 1).astype(int)\n",
    "test_set['Age*Class'] = test_set['Age'] * test_set['Pclass']\n",
    "test_set['HadCabin'] = (test_set['Cabin'] != '') * 1\n",
    "test_set['FarePerPerson'] = test_set['Fare'] / test_set['FamilySize']"
   ]
  },
  {
   "cell_type": "code",
   "execution_count": 4,
   "id": "15d92d95",
   "metadata": {
    "execution": {
     "iopub.execute_input": "2025-04-25T08:52:19.876680Z",
     "iopub.status.busy": "2025-04-25T08:52:19.876381Z",
     "iopub.status.idle": "2025-04-25T08:52:19.904260Z",
     "shell.execute_reply": "2025-04-25T08:52:19.903319Z"
    },
    "papermill": {
     "duration": 0.036433,
     "end_time": "2025-04-25T08:52:19.905834",
     "exception": false,
     "start_time": "2025-04-25T08:52:19.869401",
     "status": "completed"
    },
    "tags": []
   },
   "outputs": [
    {
     "data": {
      "text/html": [
       "<div>\n",
       "<style scoped>\n",
       "    .dataframe tbody tr th:only-of-type {\n",
       "        vertical-align: middle;\n",
       "    }\n",
       "\n",
       "    .dataframe tbody tr th {\n",
       "        vertical-align: top;\n",
       "    }\n",
       "\n",
       "    .dataframe thead th {\n",
       "        text-align: right;\n",
       "    }\n",
       "</style>\n",
       "<table border=\"1\" class=\"dataframe\">\n",
       "  <thead>\n",
       "    <tr style=\"text-align: right;\">\n",
       "      <th></th>\n",
       "      <th>PassengerId</th>\n",
       "      <th>Survived</th>\n",
       "      <th>Pclass</th>\n",
       "      <th>Name</th>\n",
       "      <th>Sex</th>\n",
       "      <th>Age</th>\n",
       "      <th>SibSp</th>\n",
       "      <th>Parch</th>\n",
       "      <th>Ticket</th>\n",
       "      <th>Fare</th>\n",
       "      <th>Cabin</th>\n",
       "      <th>Embarked</th>\n",
       "      <th>Title</th>\n",
       "      <th>CabinLetter</th>\n",
       "      <th>TicketPrefix</th>\n",
       "      <th>FamilySize</th>\n",
       "      <th>IsAlone</th>\n",
       "      <th>Age*Class</th>\n",
       "      <th>HadCabin</th>\n",
       "      <th>FarePerPerson</th>\n",
       "    </tr>\n",
       "  </thead>\n",
       "  <tbody>\n",
       "    <tr>\n",
       "      <th>0</th>\n",
       "      <td>1</td>\n",
       "      <td>0</td>\n",
       "      <td>3</td>\n",
       "      <td>Braund, Mr. Owen Harris</td>\n",
       "      <td>male</td>\n",
       "      <td>22.0</td>\n",
       "      <td>1</td>\n",
       "      <td>0</td>\n",
       "      <td>A/5 21171</td>\n",
       "      <td>7.2500</td>\n",
       "      <td>NaN</td>\n",
       "      <td>S</td>\n",
       "      <td>Mr</td>\n",
       "      <td>n</td>\n",
       "      <td>A/5</td>\n",
       "      <td>2</td>\n",
       "      <td>0</td>\n",
       "      <td>66.0</td>\n",
       "      <td>1</td>\n",
       "      <td>3.62500</td>\n",
       "    </tr>\n",
       "    <tr>\n",
       "      <th>1</th>\n",
       "      <td>2</td>\n",
       "      <td>1</td>\n",
       "      <td>1</td>\n",
       "      <td>Cumings, Mrs. John Bradley (Florence Briggs Th...</td>\n",
       "      <td>female</td>\n",
       "      <td>38.0</td>\n",
       "      <td>1</td>\n",
       "      <td>0</td>\n",
       "      <td>PC 17599</td>\n",
       "      <td>71.2833</td>\n",
       "      <td>C85</td>\n",
       "      <td>C</td>\n",
       "      <td>Mrs</td>\n",
       "      <td>C</td>\n",
       "      <td>PC</td>\n",
       "      <td>2</td>\n",
       "      <td>0</td>\n",
       "      <td>38.0</td>\n",
       "      <td>1</td>\n",
       "      <td>35.64165</td>\n",
       "    </tr>\n",
       "    <tr>\n",
       "      <th>2</th>\n",
       "      <td>3</td>\n",
       "      <td>1</td>\n",
       "      <td>3</td>\n",
       "      <td>Heikkinen, Miss. Laina</td>\n",
       "      <td>female</td>\n",
       "      <td>26.0</td>\n",
       "      <td>0</td>\n",
       "      <td>0</td>\n",
       "      <td>STON/O2. 3101282</td>\n",
       "      <td>7.9250</td>\n",
       "      <td>NaN</td>\n",
       "      <td>S</td>\n",
       "      <td>Miss</td>\n",
       "      <td>n</td>\n",
       "      <td>STON/O2.</td>\n",
       "      <td>1</td>\n",
       "      <td>1</td>\n",
       "      <td>78.0</td>\n",
       "      <td>1</td>\n",
       "      <td>7.92500</td>\n",
       "    </tr>\n",
       "    <tr>\n",
       "      <th>3</th>\n",
       "      <td>4</td>\n",
       "      <td>1</td>\n",
       "      <td>1</td>\n",
       "      <td>Futrelle, Mrs. Jacques Heath (Lily May Peel)</td>\n",
       "      <td>female</td>\n",
       "      <td>35.0</td>\n",
       "      <td>1</td>\n",
       "      <td>0</td>\n",
       "      <td>113803</td>\n",
       "      <td>53.1000</td>\n",
       "      <td>C123</td>\n",
       "      <td>S</td>\n",
       "      <td>Mrs</td>\n",
       "      <td>C</td>\n",
       "      <td>None</td>\n",
       "      <td>2</td>\n",
       "      <td>0</td>\n",
       "      <td>35.0</td>\n",
       "      <td>1</td>\n",
       "      <td>26.55000</td>\n",
       "    </tr>\n",
       "    <tr>\n",
       "      <th>4</th>\n",
       "      <td>5</td>\n",
       "      <td>0</td>\n",
       "      <td>3</td>\n",
       "      <td>Allen, Mr. William Henry</td>\n",
       "      <td>male</td>\n",
       "      <td>35.0</td>\n",
       "      <td>0</td>\n",
       "      <td>0</td>\n",
       "      <td>373450</td>\n",
       "      <td>8.0500</td>\n",
       "      <td>NaN</td>\n",
       "      <td>S</td>\n",
       "      <td>Mr</td>\n",
       "      <td>n</td>\n",
       "      <td>None</td>\n",
       "      <td>1</td>\n",
       "      <td>1</td>\n",
       "      <td>105.0</td>\n",
       "      <td>1</td>\n",
       "      <td>8.05000</td>\n",
       "    </tr>\n",
       "  </tbody>\n",
       "</table>\n",
       "</div>"
      ],
      "text/plain": [
       "   PassengerId  Survived  Pclass  \\\n",
       "0            1         0       3   \n",
       "1            2         1       1   \n",
       "2            3         1       3   \n",
       "3            4         1       1   \n",
       "4            5         0       3   \n",
       "\n",
       "                                                Name     Sex   Age  SibSp  \\\n",
       "0                            Braund, Mr. Owen Harris    male  22.0      1   \n",
       "1  Cumings, Mrs. John Bradley (Florence Briggs Th...  female  38.0      1   \n",
       "2                             Heikkinen, Miss. Laina  female  26.0      0   \n",
       "3       Futrelle, Mrs. Jacques Heath (Lily May Peel)  female  35.0      1   \n",
       "4                           Allen, Mr. William Henry    male  35.0      0   \n",
       "\n",
       "   Parch            Ticket     Fare Cabin Embarked Title CabinLetter  \\\n",
       "0      0         A/5 21171   7.2500   NaN        S    Mr           n   \n",
       "1      0          PC 17599  71.2833   C85        C   Mrs           C   \n",
       "2      0  STON/O2. 3101282   7.9250   NaN        S  Miss           n   \n",
       "3      0            113803  53.1000  C123        S   Mrs           C   \n",
       "4      0            373450   8.0500   NaN        S    Mr           n   \n",
       "\n",
       "  TicketPrefix  FamilySize  IsAlone  Age*Class  HadCabin  FarePerPerson  \n",
       "0          A/5           2        0       66.0         1        3.62500  \n",
       "1           PC           2        0       38.0         1       35.64165  \n",
       "2     STON/O2.           1        1       78.0         1        7.92500  \n",
       "3         None           2        0       35.0         1       26.55000  \n",
       "4         None           1        1      105.0         1        8.05000  "
      ]
     },
     "execution_count": 4,
     "metadata": {},
     "output_type": "execute_result"
    }
   ],
   "source": [
    "train_set.head()"
   ]
  },
  {
   "cell_type": "code",
   "execution_count": 5,
   "id": "9f690c37",
   "metadata": {
    "execution": {
     "iopub.execute_input": "2025-04-25T08:52:19.919557Z",
     "iopub.status.busy": "2025-04-25T08:52:19.919264Z",
     "iopub.status.idle": "2025-04-25T08:52:19.941239Z",
     "shell.execute_reply": "2025-04-25T08:52:19.940219Z"
    },
    "papermill": {
     "duration": 0.030733,
     "end_time": "2025-04-25T08:52:19.942916",
     "exception": false,
     "start_time": "2025-04-25T08:52:19.912183",
     "status": "completed"
    },
    "tags": []
   },
   "outputs": [
    {
     "name": "stdout",
     "output_type": "stream",
     "text": [
      "<class 'pandas.core.frame.DataFrame'>\n",
      "RangeIndex: 891 entries, 0 to 890\n",
      "Data columns (total 20 columns):\n",
      " #   Column         Non-Null Count  Dtype  \n",
      "---  ------         --------------  -----  \n",
      " 0   PassengerId    891 non-null    int64  \n",
      " 1   Survived       891 non-null    int64  \n",
      " 2   Pclass         891 non-null    int64  \n",
      " 3   Name           891 non-null    object \n",
      " 4   Sex            891 non-null    object \n",
      " 5   Age            714 non-null    float64\n",
      " 6   SibSp          891 non-null    int64  \n",
      " 7   Parch          891 non-null    int64  \n",
      " 8   Ticket         891 non-null    object \n",
      " 9   Fare           891 non-null    float64\n",
      " 10  Cabin          204 non-null    object \n",
      " 11  Embarked       889 non-null    object \n",
      " 12  Title          891 non-null    object \n",
      " 13  CabinLetter    891 non-null    object \n",
      " 14  TicketPrefix   891 non-null    object \n",
      " 15  FamilySize     891 non-null    int64  \n",
      " 16  IsAlone        891 non-null    int64  \n",
      " 17  Age*Class      714 non-null    float64\n",
      " 18  HadCabin       891 non-null    int64  \n",
      " 19  FarePerPerson  891 non-null    float64\n",
      "dtypes: float64(4), int64(8), object(8)\n",
      "memory usage: 139.3+ KB\n"
     ]
    }
   ],
   "source": [
    "train_set.info()"
   ]
  },
  {
   "cell_type": "code",
   "execution_count": 6,
   "id": "3723bb24",
   "metadata": {
    "execution": {
     "iopub.execute_input": "2025-04-25T08:52:19.956981Z",
     "iopub.status.busy": "2025-04-25T08:52:19.956636Z",
     "iopub.status.idle": "2025-04-25T08:52:19.993323Z",
     "shell.execute_reply": "2025-04-25T08:52:19.992332Z"
    },
    "papermill": {
     "duration": 0.045278,
     "end_time": "2025-04-25T08:52:19.994869",
     "exception": false,
     "start_time": "2025-04-25T08:52:19.949591",
     "status": "completed"
    },
    "tags": []
   },
   "outputs": [
    {
     "data": {
      "text/html": [
       "<div>\n",
       "<style scoped>\n",
       "    .dataframe tbody tr th:only-of-type {\n",
       "        vertical-align: middle;\n",
       "    }\n",
       "\n",
       "    .dataframe tbody tr th {\n",
       "        vertical-align: top;\n",
       "    }\n",
       "\n",
       "    .dataframe thead th {\n",
       "        text-align: right;\n",
       "    }\n",
       "</style>\n",
       "<table border=\"1\" class=\"dataframe\">\n",
       "  <thead>\n",
       "    <tr style=\"text-align: right;\">\n",
       "      <th></th>\n",
       "      <th>PassengerId</th>\n",
       "      <th>Survived</th>\n",
       "      <th>Pclass</th>\n",
       "      <th>Age</th>\n",
       "      <th>SibSp</th>\n",
       "      <th>Parch</th>\n",
       "      <th>Fare</th>\n",
       "      <th>FamilySize</th>\n",
       "      <th>IsAlone</th>\n",
       "      <th>Age*Class</th>\n",
       "      <th>HadCabin</th>\n",
       "      <th>FarePerPerson</th>\n",
       "    </tr>\n",
       "  </thead>\n",
       "  <tbody>\n",
       "    <tr>\n",
       "      <th>count</th>\n",
       "      <td>891.000000</td>\n",
       "      <td>891.000000</td>\n",
       "      <td>891.000000</td>\n",
       "      <td>714.000000</td>\n",
       "      <td>891.000000</td>\n",
       "      <td>891.000000</td>\n",
       "      <td>891.000000</td>\n",
       "      <td>891.000000</td>\n",
       "      <td>891.000000</td>\n",
       "      <td>714.000000</td>\n",
       "      <td>891.0</td>\n",
       "      <td>891.000000</td>\n",
       "    </tr>\n",
       "    <tr>\n",
       "      <th>mean</th>\n",
       "      <td>446.000000</td>\n",
       "      <td>0.383838</td>\n",
       "      <td>2.308642</td>\n",
       "      <td>29.699118</td>\n",
       "      <td>0.523008</td>\n",
       "      <td>0.381594</td>\n",
       "      <td>32.204208</td>\n",
       "      <td>1.904602</td>\n",
       "      <td>0.602694</td>\n",
       "      <td>61.938151</td>\n",
       "      <td>1.0</td>\n",
       "      <td>19.916375</td>\n",
       "    </tr>\n",
       "    <tr>\n",
       "      <th>std</th>\n",
       "      <td>257.353842</td>\n",
       "      <td>0.486592</td>\n",
       "      <td>0.836071</td>\n",
       "      <td>14.526497</td>\n",
       "      <td>1.102743</td>\n",
       "      <td>0.806057</td>\n",
       "      <td>49.693429</td>\n",
       "      <td>1.613459</td>\n",
       "      <td>0.489615</td>\n",
       "      <td>34.379609</td>\n",
       "      <td>0.0</td>\n",
       "      <td>35.841257</td>\n",
       "    </tr>\n",
       "    <tr>\n",
       "      <th>min</th>\n",
       "      <td>1.000000</td>\n",
       "      <td>0.000000</td>\n",
       "      <td>1.000000</td>\n",
       "      <td>0.420000</td>\n",
       "      <td>0.000000</td>\n",
       "      <td>0.000000</td>\n",
       "      <td>0.000000</td>\n",
       "      <td>1.000000</td>\n",
       "      <td>0.000000</td>\n",
       "      <td>0.920000</td>\n",
       "      <td>1.0</td>\n",
       "      <td>0.000000</td>\n",
       "    </tr>\n",
       "    <tr>\n",
       "      <th>25%</th>\n",
       "      <td>223.500000</td>\n",
       "      <td>0.000000</td>\n",
       "      <td>2.000000</td>\n",
       "      <td>20.125000</td>\n",
       "      <td>0.000000</td>\n",
       "      <td>0.000000</td>\n",
       "      <td>7.910400</td>\n",
       "      <td>1.000000</td>\n",
       "      <td>0.000000</td>\n",
       "      <td>38.000000</td>\n",
       "      <td>1.0</td>\n",
       "      <td>7.250000</td>\n",
       "    </tr>\n",
       "    <tr>\n",
       "      <th>50%</th>\n",
       "      <td>446.000000</td>\n",
       "      <td>0.000000</td>\n",
       "      <td>3.000000</td>\n",
       "      <td>28.000000</td>\n",
       "      <td>0.000000</td>\n",
       "      <td>0.000000</td>\n",
       "      <td>14.454200</td>\n",
       "      <td>1.000000</td>\n",
       "      <td>1.000000</td>\n",
       "      <td>58.000000</td>\n",
       "      <td>1.0</td>\n",
       "      <td>8.300000</td>\n",
       "    </tr>\n",
       "    <tr>\n",
       "      <th>75%</th>\n",
       "      <td>668.500000</td>\n",
       "      <td>1.000000</td>\n",
       "      <td>3.000000</td>\n",
       "      <td>38.000000</td>\n",
       "      <td>1.000000</td>\n",
       "      <td>0.000000</td>\n",
       "      <td>31.000000</td>\n",
       "      <td>2.000000</td>\n",
       "      <td>1.000000</td>\n",
       "      <td>81.000000</td>\n",
       "      <td>1.0</td>\n",
       "      <td>23.666667</td>\n",
       "    </tr>\n",
       "    <tr>\n",
       "      <th>max</th>\n",
       "      <td>891.000000</td>\n",
       "      <td>1.000000</td>\n",
       "      <td>3.000000</td>\n",
       "      <td>80.000000</td>\n",
       "      <td>8.000000</td>\n",
       "      <td>6.000000</td>\n",
       "      <td>512.329200</td>\n",
       "      <td>11.000000</td>\n",
       "      <td>1.000000</td>\n",
       "      <td>222.000000</td>\n",
       "      <td>1.0</td>\n",
       "      <td>512.329200</td>\n",
       "    </tr>\n",
       "  </tbody>\n",
       "</table>\n",
       "</div>"
      ],
      "text/plain": [
       "       PassengerId    Survived      Pclass         Age       SibSp  \\\n",
       "count   891.000000  891.000000  891.000000  714.000000  891.000000   \n",
       "mean    446.000000    0.383838    2.308642   29.699118    0.523008   \n",
       "std     257.353842    0.486592    0.836071   14.526497    1.102743   \n",
       "min       1.000000    0.000000    1.000000    0.420000    0.000000   \n",
       "25%     223.500000    0.000000    2.000000   20.125000    0.000000   \n",
       "50%     446.000000    0.000000    3.000000   28.000000    0.000000   \n",
       "75%     668.500000    1.000000    3.000000   38.000000    1.000000   \n",
       "max     891.000000    1.000000    3.000000   80.000000    8.000000   \n",
       "\n",
       "            Parch        Fare  FamilySize     IsAlone   Age*Class  HadCabin  \\\n",
       "count  891.000000  891.000000  891.000000  891.000000  714.000000     891.0   \n",
       "mean     0.381594   32.204208    1.904602    0.602694   61.938151       1.0   \n",
       "std      0.806057   49.693429    1.613459    0.489615   34.379609       0.0   \n",
       "min      0.000000    0.000000    1.000000    0.000000    0.920000       1.0   \n",
       "25%      0.000000    7.910400    1.000000    0.000000   38.000000       1.0   \n",
       "50%      0.000000   14.454200    1.000000    1.000000   58.000000       1.0   \n",
       "75%      0.000000   31.000000    2.000000    1.000000   81.000000       1.0   \n",
       "max      6.000000  512.329200   11.000000    1.000000  222.000000       1.0   \n",
       "\n",
       "       FarePerPerson  \n",
       "count     891.000000  \n",
       "mean       19.916375  \n",
       "std        35.841257  \n",
       "min         0.000000  \n",
       "25%         7.250000  \n",
       "50%         8.300000  \n",
       "75%        23.666667  \n",
       "max       512.329200  "
      ]
     },
     "execution_count": 6,
     "metadata": {},
     "output_type": "execute_result"
    }
   ],
   "source": [
    "train_set.describe()"
   ]
  },
  {
   "cell_type": "code",
   "execution_count": 7,
   "id": "8c18f38a",
   "metadata": {
    "execution": {
     "iopub.execute_input": "2025-04-25T08:52:20.009480Z",
     "iopub.status.busy": "2025-04-25T08:52:20.009156Z",
     "iopub.status.idle": "2025-04-25T08:52:21.037737Z",
     "shell.execute_reply": "2025-04-25T08:52:21.036566Z"
    },
    "papermill": {
     "duration": 1.037574,
     "end_time": "2025-04-25T08:52:21.039219",
     "exception": false,
     "start_time": "2025-04-25T08:52:20.001645",
     "status": "completed"
    },
    "tags": []
   },
   "outputs": [
    {
     "name": "stdout",
     "output_type": "stream",
     "text": [
      "Skew of numerical features:\n",
      "FarePerPerson    7.752515\n",
      "Fare             4.779253\n",
      "SibSp            3.689128\n",
      "Parch            2.744487\n",
      "FamilySize       2.722848\n",
      "Age*Class        0.839033\n",
      "Survived         0.477717\n",
      "Age              0.388290\n",
      "PassengerId      0.000000\n",
      "IsAlone         -0.419723\n",
      "Pclass          -0.629486\n",
      "HadCabin              NaN\n",
      "dtype: float64\n",
      "High skew features: ['FarePerPerson', 'Fare', 'SibSp', 'Parch', 'FamilySize', 'Age*Class']\n"
     ]
    }
   ],
   "source": [
    "#Check if there are heavy-tailed data\n",
    "from scipy.stats import skew\n",
    "\n",
    "numeric_cols = train_set.select_dtypes(include=np.number).columns\n",
    "skewed_feats = train_set[numeric_cols].apply(lambda x: skew(x.dropna())).sort_values(ascending=False)\n",
    "\n",
    "print(\"Skew of numerical features:\")\n",
    "print(skewed_feats)\n",
    "\n",
    "skewed_features = skewed_feats[skewed_feats > 0.8].index.tolist()\n",
    "print(\"High skew features:\", skewed_features)\n",
    "\n",
    "skewed_features = [col for col in skewed_features if col in train_set.columns]"
   ]
  },
  {
   "cell_type": "code",
   "execution_count": 8,
   "id": "d2387483",
   "metadata": {
    "execution": {
     "iopub.execute_input": "2025-04-25T08:52:21.053824Z",
     "iopub.status.busy": "2025-04-25T08:52:21.053248Z",
     "iopub.status.idle": "2025-04-25T08:52:23.242014Z",
     "shell.execute_reply": "2025-04-25T08:52:23.241013Z"
    },
    "papermill": {
     "duration": 2.198373,
     "end_time": "2025-04-25T08:52:23.244164",
     "exception": false,
     "start_time": "2025-04-25T08:52:21.045791",
     "status": "completed"
    },
    "tags": []
   },
   "outputs": [
    {
     "data": {
      "image/png": "[encoded data removed]",
      "text/plain": [
       "<Figure size 1200x1000 with 12 Axes>"
      ]
     },
     "metadata": {},
     "output_type": "display_data"
    }
   ],
   "source": [
    "import matplotlib.pyplot as plt\n",
    "\n",
    "plt.rc('font', size=14)\n",
    "plt.rc('axes', labelsize=14, titlesize=14)\n",
    "plt.rc('legend', fontsize=14)\n",
    "plt.rc('xtick', labelsize=10)\n",
    "plt.rc('ytick', labelsize=10)\n",
    "\n",
    "train_set.hist(bins=50, figsize=(12, 10))\n",
    "plt.show()"
   ]
  },
  {
   "cell_type": "code",
   "execution_count": 9,
   "id": "c995bd9b",
   "metadata": {
    "execution": {
     "iopub.execute_input": "2025-04-25T08:52:23.261590Z",
     "iopub.status.busy": "2025-04-25T08:52:23.260998Z",
     "iopub.status.idle": "2025-04-25T08:52:23.268095Z",
     "shell.execute_reply": "2025-04-25T08:52:23.267044Z"
    },
    "papermill": {
     "duration": 0.01723,
     "end_time": "2025-04-25T08:52:23.269522",
     "exception": false,
     "start_time": "2025-04-25T08:52:23.252292",
     "status": "completed"
    },
    "tags": []
   },
   "outputs": [],
   "source": [
    "#DROPPING THE USELESS FEATURES\n",
    "train_set = train_set.drop(columns=['PassengerId', 'Name', 'Ticket'])\n",
    "test_set = test_set.drop(columns=['PassengerId', 'Name', 'Ticket'])"
   ]
  },
  {
   "cell_type": "code",
   "execution_count": 10,
   "id": "f8a474f9",
   "metadata": {
    "execution": {
     "iopub.execute_input": "2025-04-25T08:52:23.286677Z",
     "iopub.status.busy": "2025-04-25T08:52:23.286017Z",
     "iopub.status.idle": "2025-04-25T08:52:23.293502Z",
     "shell.execute_reply": "2025-04-25T08:52:23.292397Z"
    },
    "papermill": {
     "duration": 0.017548,
     "end_time": "2025-04-25T08:52:23.294857",
     "exception": false,
     "start_time": "2025-04-25T08:52:23.277309",
     "status": "completed"
    },
    "tags": []
   },
   "outputs": [],
   "source": [
    "X_train = train_set.drop(columns=['Survived'])\n",
    "y_train = train_set['Survived']\n",
    "X_test = test_set.copy()"
   ]
  },
  {
   "cell_type": "code",
   "execution_count": 11,
   "id": "3ba81a11",
   "metadata": {
    "execution": {
     "iopub.execute_input": "2025-04-25T08:52:23.312052Z",
     "iopub.status.busy": "2025-04-25T08:52:23.311397Z",
     "iopub.status.idle": "2025-04-25T08:52:23.319677Z",
     "shell.execute_reply": "2025-04-25T08:52:23.318776Z"
    },
    "papermill": {
     "duration": 0.018473,
     "end_time": "2025-04-25T08:52:23.321069",
     "exception": false,
     "start_time": "2025-04-25T08:52:23.302596",
     "status": "completed"
    },
    "tags": []
   },
   "outputs": [
    {
     "name": "stdout",
     "output_type": "stream",
     "text": [
      "Categorical columns: Index(['Cabin', 'CabinLetter', 'Embarked', 'Sex', 'TicketPrefix', 'Title'], dtype='object')\n",
      "Numeric columns: Index(['Age', 'Age*Class', 'FamilySize', 'Fare', 'FarePerPerson', 'HadCabin',\n",
      "       'IsAlone', 'Parch', 'Pclass', 'SibSp'],\n",
      "      dtype='object')\n"
     ]
    }
   ],
   "source": [
    "categorical_cols = train_set.select_dtypes(include='object').columns.difference(['Survived'])\n",
    "print(\"Categorical columns:\", categorical_cols)\n",
    "numeric_cols = train_set.select_dtypes(include=np.number).columns.difference(['Survived'])\n",
    "print(\"Numeric columns:\", numeric_cols)"
   ]
  },
  {
   "cell_type": "markdown",
   "id": "28fbf20f",
   "metadata": {
    "papermill": {
     "duration": 0.007427,
     "end_time": "2025-04-25T08:52:23.336382",
     "exception": false,
     "start_time": "2025-04-25T08:52:23.328955",
     "status": "completed"
    },
    "tags": []
   },
   "source": [
    "## **2) Create a pipeline for a better preprocessing**"
   ]
  },
  {
   "cell_type": "code",
   "execution_count": 12,
   "id": "ce5260ee",
   "metadata": {
    "execution": {
     "iopub.execute_input": "2025-04-25T08:52:23.353345Z",
     "iopub.status.busy": "2025-04-25T08:52:23.352638Z",
     "iopub.status.idle": "2025-04-25T08:52:23.864681Z",
     "shell.execute_reply": "2025-04-25T08:52:23.863772Z"
    },
    "papermill": {
     "duration": 0.522557,
     "end_time": "2025-04-25T08:52:23.866502",
     "exception": false,
     "start_time": "2025-04-25T08:52:23.343945",
     "status": "completed"
    },
    "tags": []
   },
   "outputs": [],
   "source": [
    "from sklearn.pipeline import Pipeline, make_pipeline\n",
    "from sklearn.compose import ColumnTransformer, make_column_selector\n",
    "from sklearn.preprocessing import OneHotEncoder, StandardScaler, FunctionTransformer\n",
    "from sklearn.impute import SimpleImputer\n",
    "\n",
    "log_transformer = make_pipeline(                      \n",
    "    SimpleImputer(strategy=\"median\"),\n",
    "    FunctionTransformer(np.log1p, feature_names_out=\"one-to-one\"),\n",
    "    StandardScaler()\n",
    ")\n",
    "\n",
    "numeric_transformer = make_pipeline(              \n",
    "    SimpleImputer(strategy=\"median\"),\n",
    "    StandardScaler()\n",
    ")\n",
    "\n",
    "categorical_transformer = make_pipeline(                       \n",
    "    SimpleImputer(strategy=\"most_frequent\"),\n",
    "    OneHotEncoder(handle_unknown=\"ignore\")\n",
    ")\n",
    "\n",
    "preprocessor = ColumnTransformer([                       \n",
    "    (\"log\", log_transformer, skewed_features),\n",
    "    \n",
    "    (\"num\", numeric_transformer, numeric_cols),\n",
    "\n",
    "    (\"cat\", categorical_transformer, categorical_cols),\n",
    "])"
   ]
  },
  {
   "cell_type": "markdown",
   "id": "c16585e2",
   "metadata": {
    "papermill": {
     "duration": 0.007512,
     "end_time": "2025-04-25T08:52:23.881821",
     "exception": false,
     "start_time": "2025-04-25T08:52:23.874309",
     "status": "completed"
    },
    "tags": []
   },
   "source": [
    "## **3) Train and evaluate different models**"
   ]
  },
  {
   "cell_type": "markdown",
   "id": "9301903b",
   "metadata": {
    "papermill": {
     "duration": 0.007494,
     "end_time": "2025-04-25T08:52:23.896929",
     "exception": false,
     "start_time": "2025-04-25T08:52:23.889435",
     "status": "completed"
    },
    "tags": []
   },
   "source": [
    "### Logistic regression"
   ]
  },
  {
   "cell_type": "code",
   "execution_count": 13,
   "id": "13af6939",
   "metadata": {
    "execution": {
     "iopub.execute_input": "2025-04-25T08:52:23.913609Z",
     "iopub.status.busy": "2025-04-25T08:52:23.913283Z",
     "iopub.status.idle": "2025-04-25T08:52:24.193132Z",
     "shell.execute_reply": "2025-04-25T08:52:24.191658Z"
    },
    "papermill": {
     "duration": 0.290634,
     "end_time": "2025-04-25T08:52:24.195104",
     "exception": false,
     "start_time": "2025-04-25T08:52:23.904470",
     "status": "completed"
    },
    "tags": []
   },
   "outputs": [
    {
     "name": "stdout",
     "output_type": "stream",
     "text": [
      "Confusion Matrix For Logistic Regression:\n",
      " [[472  77]\n",
      " [ 86 256]]\n",
      "Recall: 0.7485380116959064\n",
      "Precision:  0.7687687687687688\n",
      "F1 Score: 0.7585185185185185\n"
     ]
    }
   ],
   "source": [
    "#TRAIN A LOGISTIC REGRESSION MODEL\n",
    "from sklearn.linear_model import LogisticRegression\n",
    "from sklearn.pipeline import Pipeline\n",
    "\n",
    "log_reg = Pipeline([\n",
    "    (\"preprocessor1\", preprocessor),\n",
    "    (\"log_reg\", LogisticRegression(max_iter=1000, random_state=42)),\n",
    "])\n",
    "\n",
    "#EVALUATE THE MODEL\n",
    "from sklearn.model_selection import cross_val_predict\n",
    "from sklearn.metrics import f1_score\n",
    "y_train_pred_1 = cross_val_predict(log_reg, X_train, y_train, cv=3)\n",
    "\n",
    "from sklearn.metrics import confusion_matrix\n",
    "cm_log_reg = confusion_matrix(y_train, y_train_pred_1)\n",
    "\n",
    "print(\"Confusion Matrix For Logistic Regression:\\n\", cm_log_reg)\n",
    "from sklearn.metrics import precision_score, recall_score\n",
    "pre_log_reg = precision_score(y_train, y_train_pred_1)\n",
    "rec_log_reg = recall_score(y_train, y_train_pred_1)\n",
    "f1_log_reg = f1_score(y_train, y_train_pred_1)\n",
    "\n",
    "print(f\"Recall: {rec_log_reg}\")\n",
    "print(f\"Precision:  {pre_log_reg}\")\n",
    "print(f\"F1 Score: {f1_log_reg}\")"
   ]
  },
  {
   "cell_type": "markdown",
   "id": "622cb0a5",
   "metadata": {
    "papermill": {
     "duration": 0.01287,
     "end_time": "2025-04-25T08:52:24.220934",
     "exception": false,
     "start_time": "2025-04-25T08:52:24.208064",
     "status": "completed"
    },
    "tags": []
   },
   "source": [
    "### Random forest classifier"
   ]
  },
  {
   "cell_type": "code",
   "execution_count": 14,
   "id": "557e25b6",
   "metadata": {
    "execution": {
     "iopub.execute_input": "2025-04-25T08:52:24.248559Z",
     "iopub.status.busy": "2025-04-25T08:52:24.248215Z",
     "iopub.status.idle": "2025-04-25T08:52:25.352259Z",
     "shell.execute_reply": "2025-04-25T08:52:25.351184Z"
    },
    "papermill": {
     "duration": 1.119992,
     "end_time": "2025-04-25T08:52:25.353806",
     "exception": false,
     "start_time": "2025-04-25T08:52:24.233814",
     "status": "completed"
    },
    "tags": []
   },
   "outputs": [
    {
     "name": "stdout",
     "output_type": "stream",
     "text": [
      "Confusion matrix for random forest regressor:\n",
      " [[478  71]\n",
      " [ 92 250]]\n",
      "Recall: 0.7309941520467836\n",
      "Precision:  0.778816199376947\n",
      "F1 Score: 0.7541478129713424\n"
     ]
    }
   ],
   "source": [
    "#TRAIN A RANDOM FOREST CLASSIFIER\n",
    "from sklearn.ensemble import RandomForestClassifier\n",
    "from sklearn.pipeline import Pipeline\n",
    "\n",
    "rf_clf = Pipeline([\n",
    "    (\"preprocessor2\", preprocessor),\n",
    "    (\"rf_clf\", RandomForestClassifier(random_state=42)),\n",
    "])\n",
    "#EVALUATING THE MODEL\n",
    "y_train_pred_2 = cross_val_predict(rf_clf, X_train, y_train, cv=3)\n",
    "cm_rf_clf = confusion_matrix(y_train, y_train_pred_2)\n",
    "print(\"Confusion matrix for random forest regressor:\\n\", cm_rf_clf)\n",
    "\n",
    "pre_rf_clf = precision_score(y_train, y_train_pred_2)\n",
    "rec_rf_clf = recall_score(y_train, y_train_pred_2)\n",
    "f1_rf_clf = f1_score(y_train, y_train_pred_2)\n",
    "print(f\"Recall: {rec_rf_clf}\")\n",
    "print(f\"Precision:  {pre_rf_clf}\")\n",
    "print(f\"F1 Score: {f1_rf_clf}\")"
   ]
  },
  {
   "cell_type": "markdown",
   "id": "f7370b76",
   "metadata": {
    "papermill": {
     "duration": 0.007664,
     "end_time": "2025-04-25T08:52:25.369414",
     "exception": false,
     "start_time": "2025-04-25T08:52:25.361750",
     "status": "completed"
    },
    "tags": []
   },
   "source": [
    "### Gradient Boosting classifier"
   ]
  },
  {
   "cell_type": "code",
   "execution_count": 15,
   "id": "c5bfb4b9",
   "metadata": {
    "execution": {
     "iopub.execute_input": "2025-04-25T08:52:25.386373Z",
     "iopub.status.busy": "2025-04-25T08:52:25.386044Z",
     "iopub.status.idle": "2025-04-25T08:52:26.197780Z",
     "shell.execute_reply": "2025-04-25T08:52:26.196589Z"
    },
    "papermill": {
     "duration": 0.822084,
     "end_time": "2025-04-25T08:52:26.199285",
     "exception": false,
     "start_time": "2025-04-25T08:52:25.377201",
     "status": "completed"
    },
    "tags": []
   },
   "outputs": [
    {
     "name": "stdout",
     "output_type": "stream",
     "text": [
      "Confusion matrix for GradientBoostingClassifier:\n",
      " [[484  65]\n",
      " [ 97 245]]\n",
      "F1 Score: 0.7515337423312882\n",
      "Recall: 0.716374269005848\n",
      "Precision:  0.7903225806451613\n"
     ]
    }
   ],
   "source": [
    "#TRAIN A GradientBoostingClassifier MODEL\n",
    "from sklearn.ensemble import GradientBoostingClassifier\n",
    "from sklearn.pipeline import Pipeline\n",
    "\n",
    "gb_clf = Pipeline([\n",
    "    (\"preprocessor5\", preprocessor),\n",
    "    (\"gb_clf\", GradientBoostingClassifier(random_state=42)),\n",
    "])\n",
    "\n",
    "#EVALUATE THE MODEL\n",
    "y_train_pred_5 = cross_val_predict(gb_clf, X_train, y_train, cv=3)\n",
    "cm_gb_clf = confusion_matrix(y_train, y_train_pred_5)\n",
    "print(\"Confusion matrix for GradientBoostingClassifier:\\n\", cm_gb_clf)\n",
    "rec_gb_clf = recall_score(y_train, y_train_pred_5)\n",
    "pre_gb_clf = precision_score(y_train, y_train_pred_5)\n",
    "f1_gb_clf = f1_score(y_train, y_train_pred_5)\n",
    "print(f\"F1 Score: {f1_gb_clf}\")\n",
    "print(f\"Recall: {rec_gb_clf}\")\n",
    "print(f\"Precision:  {pre_gb_clf}\")"
   ]
  },
  {
   "cell_type": "markdown",
   "id": "812ed5ca",
   "metadata": {
    "papermill": {
     "duration": 0.007718,
     "end_time": "2025-04-25T08:52:26.215234",
     "exception": false,
     "start_time": "2025-04-25T08:52:26.207516",
     "status": "completed"
    },
    "tags": []
   },
   "source": [
    "### Kneighbors classifier"
   ]
  },
  {
   "cell_type": "code",
   "execution_count": 16,
   "id": "82cca0d8",
   "metadata": {
    "execution": {
     "iopub.execute_input": "2025-04-25T08:52:26.232883Z",
     "iopub.status.busy": "2025-04-25T08:52:26.232065Z",
     "iopub.status.idle": "2025-04-25T08:52:26.578788Z",
     "shell.execute_reply": "2025-04-25T08:52:26.577624Z"
    },
    "papermill": {
     "duration": 0.357269,
     "end_time": "2025-04-25T08:52:26.580395",
     "exception": false,
     "start_time": "2025-04-25T08:52:26.223126",
     "status": "completed"
    },
    "tags": []
   },
   "outputs": [
    {
     "name": "stdout",
     "output_type": "stream",
     "text": [
      "Confusion matrix for KNeighborsClassifier:\n",
      " [[474  75]\n",
      " [105 237]]\n",
      "Recall: 0.6929824561403509\n",
      "Precision:  0.7596153846153846\n",
      "F1 Score: 0.7247706422018347\n"
     ]
    }
   ],
   "source": [
    "#TRAIN A KNeighborsClassifier MODEL\n",
    "from sklearn.neighbors import KNeighborsClassifier\n",
    "from sklearn.pipeline import Pipeline\n",
    "\n",
    "knn_clf = Pipeline([\n",
    "    (\"preprocessor4\", preprocessor),\n",
    "    (\"knn_clf\", KNeighborsClassifier()),\n",
    "])  \n",
    "\n",
    "#EVALUATE THE MODEL\n",
    "\n",
    "y_train_pred_4 = cross_val_predict(knn_clf, X_train, y_train, cv=3)\n",
    "cm_knn_clf = confusion_matrix(y_train, y_train_pred_4)\n",
    "print(\"Confusion matrix for KNeighborsClassifier:\\n\", cm_knn_clf)\n",
    "rec_knn_clf = recall_score(y_train, y_train_pred_4)\n",
    "pre_knn_clf = precision_score(y_train, y_train_pred_4)\n",
    "f1_knn_clf = f1_score(y_train, y_train_pred_4)\n",
    "print(f\"Recall: {rec_knn_clf}\")\n",
    "print(f\"Precision:  {pre_knn_clf}\")\n",
    "print(f\"F1 Score: {f1_knn_clf}\")"
   ]
  },
  {
   "cell_type": "markdown",
   "id": "8311630c",
   "metadata": {
    "papermill": {
     "duration": 0.06988,
     "end_time": "2025-04-25T08:52:26.658291",
     "exception": false,
     "start_time": "2025-04-25T08:52:26.588411",
     "status": "completed"
    },
    "tags": []
   },
   "source": [
    "### SVC classifier"
   ]
  },
  {
   "cell_type": "code",
   "execution_count": 17,
   "id": "808a0f47",
   "metadata": {
    "execution": {
     "iopub.execute_input": "2025-04-25T08:52:26.676177Z",
     "iopub.status.busy": "2025-04-25T08:52:26.675283Z",
     "iopub.status.idle": "2025-04-25T08:52:27.083876Z",
     "shell.execute_reply": "2025-04-25T08:52:27.082615Z"
    },
    "papermill": {
     "duration": 0.419158,
     "end_time": "2025-04-25T08:52:27.085507",
     "exception": false,
     "start_time": "2025-04-25T08:52:26.666349",
     "status": "completed"
    },
    "tags": []
   },
   "outputs": [
    {
     "name": "stdout",
     "output_type": "stream",
     "text": [
      "Confusion matrix for the SVC regressor:\n",
      " [[488  61]\n",
      " [ 93 249]]\n",
      "Recall: 0.7280701754385965\n",
      "Precision:  0.8032258064516129\n",
      "F1 Score: 0.763803680981595\n"
     ]
    }
   ],
   "source": [
    "#TRAIN A SVC CLASSIFIER\n",
    "from sklearn.svm import SVC\n",
    "from sklearn.pipeline import Pipeline\n",
    "\n",
    "svc_clf = Pipeline([\n",
    "    (\"prepocessor3\", preprocessor),\n",
    "    (\"svc_clf\", SVC(random_state=42, probability=True)),\n",
    "])\n",
    "\n",
    "#EVALUATE THE MODEL\n",
    "y_train_pred_3 = cross_val_predict(svc_clf, X_train, y_train, cv=3)\n",
    "cm_svc_clf = confusion_matrix(y_train, y_train_pred_3)\n",
    "print(\"Confusion matrix for the SVC regressor:\\n\", cm_svc_clf)\n",
    "\n",
    "pre_svc_clf = precision_score(y_train, y_train_pred_3)\n",
    "rec_svc_clf = recall_score(y_train, y_train_pred_3)\n",
    "f1_svc_clf = f1_score(y_train, y_train_pred_3)\n",
    "print(f\"Recall: {rec_svc_clf}\")\n",
    "print(f\"Precision:  {pre_svc_clf}\")\n",
    "print(f\"F1 Score: {f1_svc_clf}\")"
   ]
  },
  {
   "cell_type": "markdown",
   "id": "ab3b151c",
   "metadata": {
    "papermill": {
     "duration": 0.007906,
     "end_time": "2025-04-25T08:52:27.101809",
     "exception": false,
     "start_time": "2025-04-25T08:52:27.093903",
     "status": "completed"
    },
    "tags": []
   },
   "source": [
    "We know understand that the 4 best models are: Random Forest classifier, Gradient Boosting classifier, SVC classifier, Logistic Regression"
   ]
  },
  {
   "cell_type": "markdown",
   "id": "73bbeb72",
   "metadata": {
    "papermill": {
     "duration": 0.007971,
     "end_time": "2025-04-25T08:52:27.117955",
     "exception": false,
     "start_time": "2025-04-25T08:52:27.109984",
     "status": "completed"
    },
    "tags": []
   },
   "source": [
    "## **4) Use random search to choose the best hyperparameters**"
   ]
  },
  {
   "cell_type": "code",
   "execution_count": 18,
   "id": "272b9f33",
   "metadata": {
    "execution": {
     "iopub.execute_input": "2025-04-25T08:52:27.135661Z",
     "iopub.status.busy": "2025-04-25T08:52:27.135342Z",
     "iopub.status.idle": "2025-04-25T08:52:41.911402Z",
     "shell.execute_reply": "2025-04-25T08:52:41.910255Z"
    },
    "papermill": {
     "duration": 14.786824,
     "end_time": "2025-04-25T08:52:41.912892",
     "exception": false,
     "start_time": "2025-04-25T08:52:27.126068",
     "status": "completed"
    },
    "tags": []
   },
   "outputs": [
    {
     "data": {
      "text/html": [
       "<style>#sk-container-id-1 {color: black;background-color: white;}#sk-container-id-1 pre{padding: 0;}#sk-container-id-1 div.sk-toggleable {background-color: white;}#sk-container-id-1 label.sk-toggleable__label {cursor: pointer;display: block;width: 100%;margin-bottom: 0;padding: 0.3em;box-sizing: border-box;text-align: center;}#sk-container-id-1 label.sk-toggleable__label-arrow:before {content: \"▸\";float: left;margin-right: 0.25em;color: #696969;}#sk-container-id-1 label.sk-toggleable__label-arrow:hover:before {color: black;}#sk-container-id-1 div.sk-estimator:hover label.sk-toggleable__label-arrow:before {color: black;}#sk-container-id-1 div.sk-toggleable__content {max-height: 0;max-width: 0;overflow: hidden;text-align: left;background-color: #f0f8ff;}#sk-container-id-1 div.sk-toggleable__content pre {margin: 0.2em;color: black;border-radius: 0.25em;background-color: #f0f8ff;}#sk-container-id-1 input.sk-toggleable__control:checked~div.sk-toggleable__content {max-height: 200px;max-width: 100%;overflow: auto;}#sk-container-id-1 input.sk-toggleable__control:checked~label.sk-toggleable__label-arrow:before {content: \"▾\";}#sk-container-id-1 div.sk-estimator input.sk-toggleable__control:checked~label.sk-toggleable__label {background-color: #d4ebff;}#sk-container-id-1 div.sk-label input.sk-toggleable__control:checked~label.sk-toggleable__label {background-color: #d4ebff;}#sk-container-id-1 input.sk-hidden--visually {border: 0;clip: rect(1px 1px 1px 1px);clip: rect(1px, 1px, 1px, 1px);height: 1px;margin: -1px;overflow: hidden;padding: 0;position: absolute;width: 1px;}#sk-container-id-1 div.sk-estimator {font-family: monospace;background-color: #f0f8ff;border: 1px dotted black;border-radius: 0.25em;box-sizing: border-box;margin-bottom: 0.5em;}#sk-container-id-1 div.sk-estimator:hover {background-color: #d4ebff;}#sk-container-id-1 div.sk-parallel-item::after {content: \"\";width: 100%;border-bottom: 1px solid gray;flex-grow: 1;}#sk-container-id-1 div.sk-label:hover label.sk-toggleable__label {background-color: #d4ebff;}#sk-container-id-1 div.sk-serial::before {content: \"\";position: absolute;border-left: 1px solid gray;box-sizing: border-box;top: 0;bottom: 0;left: 50%;z-index: 0;}#sk-container-id-1 div.sk-serial {display: flex;flex-direction: column;align-items: center;background-color: white;padding-right: 0.2em;padding-left: 0.2em;position: relative;}#sk-container-id-1 div.sk-item {position: relative;z-index: 1;}#sk-container-id-1 div.sk-parallel {display: flex;align-items: stretch;justify-content: center;background-color: white;position: relative;}#sk-container-id-1 div.sk-item::before, #sk-container-id-1 div.sk-parallel-item::before {content: \"\";position: absolute;border-left: 1px solid gray;box-sizing: border-box;top: 0;bottom: 0;left: 50%;z-index: -1;}#sk-container-id-1 div.sk-parallel-item {display: flex;flex-direction: column;z-index: 1;position: relative;background-color: white;}#sk-container-id-1 div.sk-parallel-item:first-child::after {align-self: flex-end;width: 50%;}#sk-container-id-1 div.sk-parallel-item:last-child::after {align-self: flex-start;width: 50%;}#sk-container-id-1 div.sk-parallel-item:only-child::after {width: 0;}#sk-container-id-1 div.sk-dashed-wrapped {border: 1px dashed gray;margin: 0 0.4em 0.5em 0.4em;box-sizing: border-box;padding-bottom: 0.4em;background-color: white;}#sk-container-id-1 div.sk-label label {font-family: monospace;font-weight: bold;display: inline-block;line-height: 1.2em;}#sk-container-id-1 div.sk-label-container {text-align: center;}#sk-container-id-1 div.sk-container {/* jupyter's `normalize.less` sets `[hidden] { display: none; }` but bootstrap.min.css set `[hidden] { display: none !important; }` so we also need the `!important` here to be able to override the default hidden behavior on the sphinx rendered scikit-learn.org. See: https://github.com/scikit-learn/scikit-learn/issues/21755 */display: inline-block !important;position: relative;}#sk-container-id-1 div.sk-text-repr-fallback {display: none;}</style><div id=\"sk-container-id-1\" class=\"sk-top-container\"><div class=\"sk-text-repr-fallback\"><pre>RandomizedSearchCV(cv=3,\n",
       "                   estimator=Pipeline(steps=[(&#x27;preprocessor2&#x27;,\n",
       "                                              ColumnTransformer(transformers=[(&#x27;log&#x27;,\n",
       "                                                                               Pipeline(steps=[(&#x27;simpleimputer&#x27;,\n",
       "                                                                                                SimpleImputer(strategy=&#x27;median&#x27;)),\n",
       "                                                                                               (&#x27;functiontransformer&#x27;,\n",
       "                                                                                                FunctionTransformer(feature_names_out=&#x27;one-to-one&#x27;,\n",
       "                                                                                                                    func=&lt;ufunc &#x27;log1p&#x27;&gt;)),\n",
       "                                                                                               (&#x27;standardscaler&#x27;,\n",
       "                                                                                                StandardScaler())]),\n",
       "                                                                               [&#x27;FarePerPerson&#x27;,\n",
       "                                                                                &#x27;Fare&#x27;,\n",
       "                                                                                &#x27;SibSp&#x27;,\n",
       "                                                                                &#x27;Parch&#x27;,\n",
       "                                                                                &#x27;Fa...\n",
       "                                                                               Index([&#x27;Cabin&#x27;, &#x27;CabinLetter&#x27;, &#x27;Embarked&#x27;, &#x27;Sex&#x27;, &#x27;TicketPrefix&#x27;, &#x27;Title&#x27;], dtype=&#x27;object&#x27;))])),\n",
       "                                             (&#x27;rf_clf&#x27;,\n",
       "                                              RandomForestClassifier(random_state=42))]),\n",
       "                   n_jobs=-1,\n",
       "                   param_distributions={&#x27;rf_clf__bootstrap&#x27;: [True, False],\n",
       "                                        &#x27;rf_clf__max_depth&#x27;: [None, 5, 10, 20],\n",
       "                                        &#x27;rf_clf__max_features&#x27;: [&#x27;sqrt&#x27;, &#x27;log2&#x27;,\n",
       "                                                                 None],\n",
       "                                        &#x27;rf_clf__min_samples_leaf&#x27;: [1, 2, 4],\n",
       "                                        &#x27;rf_clf__min_samples_split&#x27;: [2, 5, 10],\n",
       "                                        &#x27;rf_clf__n_estimators&#x27;: [100, 200,\n",
       "                                                                 500]},\n",
       "                   scoring=&#x27;f1&#x27;)</pre><b>In a Jupyter environment, please rerun this cell to show the HTML representation or trust the notebook. <br />On GitHub, the HTML representation is unable to render, please try loading this page with nbviewer.org.</b></div><div class=\"sk-container\" hidden><div class=\"sk-item sk-dashed-wrapped\"><div class=\"sk-label-container\"><div class=\"sk-label sk-toggleable\"><input class=\"sk-toggleable__control sk-hidden--visually\" id=\"sk-estimator-id-1\" type=\"checkbox\" ><label for=\"sk-estimator-id-1\" class=\"sk-toggleable__label sk-toggleable__label-arrow\">RandomizedSearchCV</label><div class=\"sk-toggleable__content\"><pre>RandomizedSearchCV(cv=3,\n",
       "                   estimator=Pipeline(steps=[(&#x27;preprocessor2&#x27;,\n",
       "                                              ColumnTransformer(transformers=[(&#x27;log&#x27;,\n",
       "                                                                               Pipeline(steps=[(&#x27;simpleimputer&#x27;,\n",
       "                                                                                                SimpleImputer(strategy=&#x27;median&#x27;)),\n",
       "                                                                                               (&#x27;functiontransformer&#x27;,\n",
       "                                                                                                FunctionTransformer(feature_names_out=&#x27;one-to-one&#x27;,\n",
       "                                                                                                                    func=&lt;ufunc &#x27;log1p&#x27;&gt;)),\n",
       "                                                                                               (&#x27;standardscaler&#x27;,\n",
       "                                                                                                StandardScaler())]),\n",
       "                                                                               [&#x27;FarePerPerson&#x27;,\n",
       "                                                                                &#x27;Fare&#x27;,\n",
       "                                                                                &#x27;SibSp&#x27;,\n",
       "                                                                                &#x27;Parch&#x27;,\n",
       "                                                                                &#x27;Fa...\n",
       "                                                                               Index([&#x27;Cabin&#x27;, &#x27;CabinLetter&#x27;, &#x27;Embarked&#x27;, &#x27;Sex&#x27;, &#x27;TicketPrefix&#x27;, &#x27;Title&#x27;], dtype=&#x27;object&#x27;))])),\n",
       "                                             (&#x27;rf_clf&#x27;,\n",
       "                                              RandomForestClassifier(random_state=42))]),\n",
       "                   n_jobs=-1,\n",
       "                   param_distributions={&#x27;rf_clf__bootstrap&#x27;: [True, False],\n",
       "                                        &#x27;rf_clf__max_depth&#x27;: [None, 5, 10, 20],\n",
       "                                        &#x27;rf_clf__max_features&#x27;: [&#x27;sqrt&#x27;, &#x27;log2&#x27;,\n",
       "                                                                 None],\n",
       "                                        &#x27;rf_clf__min_samples_leaf&#x27;: [1, 2, 4],\n",
       "                                        &#x27;rf_clf__min_samples_split&#x27;: [2, 5, 10],\n",
       "                                        &#x27;rf_clf__n_estimators&#x27;: [100, 200,\n",
       "                                                                 500]},\n",
       "                   scoring=&#x27;f1&#x27;)</pre></div></div></div><div class=\"sk-parallel\"><div class=\"sk-parallel-item\"><div class=\"sk-item\"><div class=\"sk-label-container\"><div class=\"sk-label sk-toggleable\"><input class=\"sk-toggleable__control sk-hidden--visually\" id=\"sk-estimator-id-2\" type=\"checkbox\" ><label for=\"sk-estimator-id-2\" class=\"sk-toggleable__label sk-toggleable__label-arrow\">estimator: Pipeline</label><div class=\"sk-toggleable__content\"><pre>Pipeline(steps=[(&#x27;preprocessor2&#x27;,\n",
       "                 ColumnTransformer(transformers=[(&#x27;log&#x27;,\n",
       "                                                  Pipeline(steps=[(&#x27;simpleimputer&#x27;,\n",
       "                                                                   SimpleImputer(strategy=&#x27;median&#x27;)),\n",
       "                                                                  (&#x27;functiontransformer&#x27;,\n",
       "                                                                   FunctionTransformer(feature_names_out=&#x27;one-to-one&#x27;,\n",
       "                                                                                       func=&lt;ufunc &#x27;log1p&#x27;&gt;)),\n",
       "                                                                  (&#x27;standardscaler&#x27;,\n",
       "                                                                   StandardScaler())]),\n",
       "                                                  [&#x27;FarePerPerson&#x27;, &#x27;Fare&#x27;,\n",
       "                                                   &#x27;SibSp&#x27;, &#x27;Parch&#x27;,\n",
       "                                                   &#x27;FamilySize&#x27;, &#x27;Age*Class&#x27;]),\n",
       "                                                 (&#x27;num&#x27;,\n",
       "                                                  Pip...\n",
       "                                                  Index([&#x27;Age&#x27;, &#x27;Age*Class&#x27;, &#x27;FamilySize&#x27;, &#x27;Fare&#x27;, &#x27;FarePerPerson&#x27;, &#x27;HadCabin&#x27;,\n",
       "       &#x27;IsAlone&#x27;, &#x27;Parch&#x27;, &#x27;Pclass&#x27;, &#x27;SibSp&#x27;],\n",
       "      dtype=&#x27;object&#x27;)),\n",
       "                                                 (&#x27;cat&#x27;,\n",
       "                                                  Pipeline(steps=[(&#x27;simpleimputer&#x27;,\n",
       "                                                                   SimpleImputer(strategy=&#x27;most_frequent&#x27;)),\n",
       "                                                                  (&#x27;onehotencoder&#x27;,\n",
       "                                                                   OneHotEncoder(handle_unknown=&#x27;ignore&#x27;))]),\n",
       "                                                  Index([&#x27;Cabin&#x27;, &#x27;CabinLetter&#x27;, &#x27;Embarked&#x27;, &#x27;Sex&#x27;, &#x27;TicketPrefix&#x27;, &#x27;Title&#x27;], dtype=&#x27;object&#x27;))])),\n",
       "                (&#x27;rf_clf&#x27;, RandomForestClassifier(random_state=42))])</pre></div></div></div><div class=\"sk-serial\"><div class=\"sk-item\"><div class=\"sk-serial\"><div class=\"sk-item sk-dashed-wrapped\"><div class=\"sk-label-container\"><div class=\"sk-label sk-toggleable\"><input class=\"sk-toggleable__control sk-hidden--visually\" id=\"sk-estimator-id-3\" type=\"checkbox\" ><label for=\"sk-estimator-id-3\" class=\"sk-toggleable__label sk-toggleable__label-arrow\">preprocessor2: ColumnTransformer</label><div class=\"sk-toggleable__content\"><pre>ColumnTransformer(transformers=[(&#x27;log&#x27;,\n",
       "                                 Pipeline(steps=[(&#x27;simpleimputer&#x27;,\n",
       "                                                  SimpleImputer(strategy=&#x27;median&#x27;)),\n",
       "                                                 (&#x27;functiontransformer&#x27;,\n",
       "                                                  FunctionTransformer(feature_names_out=&#x27;one-to-one&#x27;,\n",
       "                                                                      func=&lt;ufunc &#x27;log1p&#x27;&gt;)),\n",
       "                                                 (&#x27;standardscaler&#x27;,\n",
       "                                                  StandardScaler())]),\n",
       "                                 [&#x27;FarePerPerson&#x27;, &#x27;Fare&#x27;, &#x27;SibSp&#x27;, &#x27;Parch&#x27;,\n",
       "                                  &#x27;FamilySize&#x27;, &#x27;Age*Class&#x27;]),\n",
       "                                (&#x27;num&#x27;,\n",
       "                                 Pipeline(steps=[(&#x27;simpleimputer&#x27;,\n",
       "                                                  Sim...\n",
       "                                 Index([&#x27;Age&#x27;, &#x27;Age*Class&#x27;, &#x27;FamilySize&#x27;, &#x27;Fare&#x27;, &#x27;FarePerPerson&#x27;, &#x27;HadCabin&#x27;,\n",
       "       &#x27;IsAlone&#x27;, &#x27;Parch&#x27;, &#x27;Pclass&#x27;, &#x27;SibSp&#x27;],\n",
       "      dtype=&#x27;object&#x27;)),\n",
       "                                (&#x27;cat&#x27;,\n",
       "                                 Pipeline(steps=[(&#x27;simpleimputer&#x27;,\n",
       "                                                  SimpleImputer(strategy=&#x27;most_frequent&#x27;)),\n",
       "                                                 (&#x27;onehotencoder&#x27;,\n",
       "                                                  OneHotEncoder(handle_unknown=&#x27;ignore&#x27;))]),\n",
       "                                 Index([&#x27;Cabin&#x27;, &#x27;CabinLetter&#x27;, &#x27;Embarked&#x27;, &#x27;Sex&#x27;, &#x27;TicketPrefix&#x27;, &#x27;Title&#x27;], dtype=&#x27;object&#x27;))])</pre></div></div></div><div class=\"sk-parallel\"><div class=\"sk-parallel-item\"><div class=\"sk-item\"><div class=\"sk-label-container\"><div class=\"sk-label sk-toggleable\"><input class=\"sk-toggleable__control sk-hidden--visually\" id=\"sk-estimator-id-4\" type=\"checkbox\" ><label for=\"sk-estimator-id-4\" class=\"sk-toggleable__label sk-toggleable__label-arrow\">log</label><div class=\"sk-toggleable__content\"><pre>[&#x27;FarePerPerson&#x27;, &#x27;Fare&#x27;, &#x27;SibSp&#x27;, &#x27;Parch&#x27;, &#x27;FamilySize&#x27;, &#x27;Age*Class&#x27;]</pre></div></div></div><div class=\"sk-serial\"><div class=\"sk-item\"><div class=\"sk-serial\"><div class=\"sk-item\"><div class=\"sk-estimator sk-toggleable\"><input class=\"sk-toggleable__control sk-hidden--visually\" id=\"sk-estimator-id-5\" type=\"checkbox\" ><label for=\"sk-estimator-id-5\" class=\"sk-toggleable__label sk-toggleable__label-arrow\">SimpleImputer</label><div class=\"sk-toggleable__content\"><pre>SimpleImputer(strategy=&#x27;median&#x27;)</pre></div></div></div><div class=\"sk-item\"><div class=\"sk-estimator sk-toggleable\"><input class=\"sk-toggleable__control sk-hidden--visually\" id=\"sk-estimator-id-6\" type=\"checkbox\" ><label for=\"sk-estimator-id-6\" class=\"sk-toggleable__label sk-toggleable__label-arrow\">FunctionTransformer</label><div class=\"sk-toggleable__content\"><pre>FunctionTransformer(feature_names_out=&#x27;one-to-one&#x27;, func=&lt;ufunc &#x27;log1p&#x27;&gt;)</pre></div></div></div><div class=\"sk-item\"><div class=\"sk-estimator sk-toggleable\"><input class=\"sk-toggleable__control sk-hidden--visually\" id=\"sk-estimator-id-7\" type=\"checkbox\" ><label for=\"sk-estimator-id-7\" class=\"sk-toggleable__label sk-toggleable__label-arrow\">StandardScaler</label><div class=\"sk-toggleable__content\"><pre>StandardScaler()</pre></div></div></div></div></div></div></div></div><div class=\"sk-parallel-item\"><div class=\"sk-item\"><div class=\"sk-label-container\"><div class=\"sk-label sk-toggleable\"><input class=\"sk-toggleable__control sk-hidden--visually\" id=\"sk-estimator-id-8\" type=\"checkbox\" ><label for=\"sk-estimator-id-8\" class=\"sk-toggleable__label sk-toggleable__label-arrow\">num</label><div class=\"sk-toggleable__content\"><pre>Index([&#x27;Age&#x27;, &#x27;Age*Class&#x27;, &#x27;FamilySize&#x27;, &#x27;Fare&#x27;, &#x27;FarePerPerson&#x27;, &#x27;HadCabin&#x27;,\n",
       "       &#x27;IsAlone&#x27;, &#x27;Parch&#x27;, &#x27;Pclass&#x27;, &#x27;SibSp&#x27;],\n",
       "      dtype=&#x27;object&#x27;)</pre></div></div></div><div class=\"sk-serial\"><div class=\"sk-item\"><div class=\"sk-serial\"><div class=\"sk-item\"><div class=\"sk-estimator sk-toggleable\"><input class=\"sk-toggleable__control sk-hidden--visually\" id=\"sk-estimator-id-9\" type=\"checkbox\" ><label for=\"sk-estimator-id-9\" class=\"sk-toggleable__label sk-toggleable__label-arrow\">SimpleImputer</label><div class=\"sk-toggleable__content\"><pre>SimpleImputer(strategy=&#x27;median&#x27;)</pre></div></div></div><div class=\"sk-item\"><div class=\"sk-estimator sk-toggleable\"><input class=\"sk-toggleable__control sk-hidden--visually\" id=\"sk-estimator-id-10\" type=\"checkbox\" ><label for=\"sk-estimator-id-10\" class=\"sk-toggleable__label sk-toggleable__label-arrow\">StandardScaler</label><div class=\"sk-toggleable__content\"><pre>StandardScaler()</pre></div></div></div></div></div></div></div></div><div class=\"sk-parallel-item\"><div class=\"sk-item\"><div class=\"sk-label-container\"><div class=\"sk-label sk-toggleable\"><input class=\"sk-toggleable__control sk-hidden--visually\" id=\"sk-estimator-id-11\" type=\"checkbox\" ><label for=\"sk-estimator-id-11\" class=\"sk-toggleable__label sk-toggleable__label-arrow\">cat</label><div class=\"sk-toggleable__content\"><pre>Index([&#x27;Cabin&#x27;, &#x27;CabinLetter&#x27;, &#x27;Embarked&#x27;, &#x27;Sex&#x27;, &#x27;TicketPrefix&#x27;, &#x27;Title&#x27;], dtype=&#x27;object&#x27;)</pre></div></div></div><div class=\"sk-serial\"><div class=\"sk-item\"><div class=\"sk-serial\"><div class=\"sk-item\"><div class=\"sk-estimator sk-toggleable\"><input class=\"sk-toggleable__control sk-hidden--visually\" id=\"sk-estimator-id-12\" type=\"checkbox\" ><label for=\"sk-estimator-id-12\" class=\"sk-toggleable__label sk-toggleable__label-arrow\">SimpleImputer</label><div class=\"sk-toggleable__content\"><pre>SimpleImputer(strategy=&#x27;most_frequent&#x27;)</pre></div></div></div><div class=\"sk-item\"><div class=\"sk-estimator sk-toggleable\"><input class=\"sk-toggleable__control sk-hidden--visually\" id=\"sk-estimator-id-13\" type=\"checkbox\" ><label for=\"sk-estimator-id-13\" class=\"sk-toggleable__label sk-toggleable__label-arrow\">OneHotEncoder</label><div class=\"sk-toggleable__content\"><pre>OneHotEncoder(handle_unknown=&#x27;ignore&#x27;)</pre></div></div></div></div></div></div></div></div></div></div><div class=\"sk-item\"><div class=\"sk-estimator sk-toggleable\"><input class=\"sk-toggleable__control sk-hidden--visually\" id=\"sk-estimator-id-14\" type=\"checkbox\" ><label for=\"sk-estimator-id-14\" class=\"sk-toggleable__label sk-toggleable__label-arrow\">RandomForestClassifier</label><div class=\"sk-toggleable__content\"><pre>RandomForestClassifier(random_state=42)</pre></div></div></div></div></div></div></div></div></div></div></div></div>"
      ],
      "text/plain": [
       "RandomizedSearchCV(cv=3,\n",
       "                   estimator=Pipeline(steps=[('preprocessor2',\n",
       "                                              ColumnTransformer(transformers=[('log',\n",
       "                                                                               Pipeline(steps=[('simpleimputer',\n",
       "                                                                                                SimpleImputer(strategy='median')),\n",
       "                                                                                               ('functiontransformer',\n",
       "                                                                                                FunctionTransformer(feature_names_out='one-to-one',\n",
       "                                                                                                                    func=<ufunc 'log1p'>)),\n",
       "                                                                                               ('standardscaler',\n",
       "                                                                                                StandardScaler())]),\n",
       "                                                                               ['FarePerPerson',\n",
       "                                                                                'Fare',\n",
       "                                                                                'SibSp',\n",
       "                                                                                'Parch',\n",
       "                                                                                'Fa...\n",
       "                                                                               Index(['Cabin', 'CabinLetter', 'Embarked', 'Sex', 'TicketPrefix', 'Title'], dtype='object'))])),\n",
       "                                             ('rf_clf',\n",
       "                                              RandomForestClassifier(random_state=42))]),\n",
       "                   n_jobs=-1,\n",
       "                   param_distributions={'rf_clf__bootstrap': [True, False],\n",
       "                                        'rf_clf__max_depth': [None, 5, 10, 20],\n",
       "                                        'rf_clf__max_features': ['sqrt', 'log2',\n",
       "                                                                 None],\n",
       "                                        'rf_clf__min_samples_leaf': [1, 2, 4],\n",
       "                                        'rf_clf__min_samples_split': [2, 5, 10],\n",
       "                                        'rf_clf__n_estimators': [100, 200,\n",
       "                                                                 500]},\n",
       "                   scoring='f1')"
      ]
     },
     "execution_count": 18,
     "metadata": {},
     "output_type": "execute_result"
    }
   ],
   "source": [
    "#RANDOMISE SEARCH FOR RANDOM FOREST CLASSIFIER\n",
    "from sklearn.ensemble import RandomForestClassifier\n",
    "from sklearn.model_selection import RandomizedSearchCV\n",
    "\n",
    "rf_params = {\n",
    "    'rf_clf__n_estimators': [100, 200, 500],\n",
    "    'rf_clf__max_depth': [None, 5, 10, 20],\n",
    "    'rf_clf__min_samples_split': [2, 5, 10],\n",
    "    'rf_clf__min_samples_leaf': [1, 2, 4],\n",
    "    'rf_clf__max_features': ['sqrt', 'log2', None],\n",
    "    'rf_clf__bootstrap': [True, False]\n",
    "}\n",
    "\n",
    "rf_search = RandomizedSearchCV(rf_clf, rf_params, cv=3, scoring='f1', n_jobs=-1, verbose=0)\n",
    "rf_search.fit(X_train, y_train)"
   ]
  },
  {
   "cell_type": "code",
   "execution_count": 19,
   "id": "daf8dc80",
   "metadata": {
    "execution": {
     "iopub.execute_input": "2025-04-25T08:52:41.932855Z",
     "iopub.status.busy": "2025-04-25T08:52:41.932463Z",
     "iopub.status.idle": "2025-04-25T08:53:04.716162Z",
     "shell.execute_reply": "2025-04-25T08:53:04.715096Z"
    },
    "papermill": {
     "duration": 22.795374,
     "end_time": "2025-04-25T08:53:04.717836",
     "exception": false,
     "start_time": "2025-04-25T08:52:41.922462",
     "status": "completed"
    },
    "tags": []
   },
   "outputs": [
    {
     "data": {
      "text/html": [
       "<style>#sk-container-id-2 {color: black;background-color: white;}#sk-container-id-2 pre{padding: 0;}#sk-container-id-2 div.sk-toggleable {background-color: white;}#sk-container-id-2 label.sk-toggleable__label {cursor: pointer;display: block;width: 100%;margin-bottom: 0;padding: 0.3em;box-sizing: border-box;text-align: center;}#sk-container-id-2 label.sk-toggleable__label-arrow:before {content: \"▸\";float: left;margin-right: 0.25em;color: #696969;}#sk-container-id-2 label.sk-toggleable__label-arrow:hover:before {color: black;}#sk-container-id-2 div.sk-estimator:hover label.sk-toggleable__label-arrow:before {color: black;}#sk-container-id-2 div.sk-toggleable__content {max-height: 0;max-width: 0;overflow: hidden;text-align: left;background-color: #f0f8ff;}#sk-container-id-2 div.sk-toggleable__content pre {margin: 0.2em;color: black;border-radius: 0.25em;background-color: #f0f8ff;}#sk-container-id-2 input.sk-toggleable__control:checked~div.sk-toggleable__content {max-height: 200px;max-width: 100%;overflow: auto;}#sk-container-id-2 input.sk-toggleable__control:checked~label.sk-toggleable__label-arrow:before {content: \"▾\";}#sk-container-id-2 div.sk-estimator input.sk-toggleable__control:checked~label.sk-toggleable__label {background-color: #d4ebff;}#sk-container-id-2 div.sk-label input.sk-toggleable__control:checked~label.sk-toggleable__label {background-color: #d4ebff;}#sk-container-id-2 input.sk-hidden--visually {border: 0;clip: rect(1px 1px 1px 1px);clip: rect(1px, 1px, 1px, 1px);height: 1px;margin: -1px;overflow: hidden;padding: 0;position: absolute;width: 1px;}#sk-container-id-2 div.sk-estimator {font-family: monospace;background-color: #f0f8ff;border: 1px dotted black;border-radius: 0.25em;box-sizing: border-box;margin-bottom: 0.5em;}#sk-container-id-2 div.sk-estimator:hover {background-color: #d4ebff;}#sk-container-id-2 div.sk-parallel-item::after {content: \"\";width: 100%;border-bottom: 1px solid gray;flex-grow: 1;}#sk-container-id-2 div.sk-label:hover label.sk-toggleable__label {background-color: #d4ebff;}#sk-container-id-2 div.sk-serial::before {content: \"\";position: absolute;border-left: 1px solid gray;box-sizing: border-box;top: 0;bottom: 0;left: 50%;z-index: 0;}#sk-container-id-2 div.sk-serial {display: flex;flex-direction: column;align-items: center;background-color: white;padding-right: 0.2em;padding-left: 0.2em;position: relative;}#sk-container-id-2 div.sk-item {position: relative;z-index: 1;}#sk-container-id-2 div.sk-parallel {display: flex;align-items: stretch;justify-content: center;background-color: white;position: relative;}#sk-container-id-2 div.sk-item::before, #sk-container-id-2 div.sk-parallel-item::before {content: \"\";position: absolute;border-left: 1px solid gray;box-sizing: border-box;top: 0;bottom: 0;left: 50%;z-index: -1;}#sk-container-id-2 div.sk-parallel-item {display: flex;flex-direction: column;z-index: 1;position: relative;background-color: white;}#sk-container-id-2 div.sk-parallel-item:first-child::after {align-self: flex-end;width: 50%;}#sk-container-id-2 div.sk-parallel-item:last-child::after {align-self: flex-start;width: 50%;}#sk-container-id-2 div.sk-parallel-item:only-child::after {width: 0;}#sk-container-id-2 div.sk-dashed-wrapped {border: 1px dashed gray;margin: 0 0.4em 0.5em 0.4em;box-sizing: border-box;padding-bottom: 0.4em;background-color: white;}#sk-container-id-2 div.sk-label label {font-family: monospace;font-weight: bold;display: inline-block;line-height: 1.2em;}#sk-container-id-2 div.sk-label-container {text-align: center;}#sk-container-id-2 div.sk-container {/* jupyter's `normalize.less` sets `[hidden] { display: none; }` but bootstrap.min.css set `[hidden] { display: none !important; }` so we also need the `!important` here to be able to override the default hidden behavior on the sphinx rendered scikit-learn.org. See: https://github.com/scikit-learn/scikit-learn/issues/21755 */display: inline-block !important;position: relative;}#sk-container-id-2 div.sk-text-repr-fallback {display: none;}</style><div id=\"sk-container-id-2\" class=\"sk-top-container\"><div class=\"sk-text-repr-fallback\"><pre>RandomizedSearchCV(cv=3,\n",
       "                   estimator=Pipeline(steps=[(&#x27;preprocessor5&#x27;,\n",
       "                                              ColumnTransformer(transformers=[(&#x27;log&#x27;,\n",
       "                                                                               Pipeline(steps=[(&#x27;simpleimputer&#x27;,\n",
       "                                                                                                SimpleImputer(strategy=&#x27;median&#x27;)),\n",
       "                                                                                               (&#x27;functiontransformer&#x27;,\n",
       "                                                                                                FunctionTransformer(feature_names_out=&#x27;one-to-one&#x27;,\n",
       "                                                                                                                    func=&lt;ufunc &#x27;log1p&#x27;&gt;)),\n",
       "                                                                                               (&#x27;standardscaler&#x27;,\n",
       "                                                                                                StandardScaler())]),\n",
       "                                                                               [&#x27;FarePerPerson&#x27;,\n",
       "                                                                                &#x27;Fare&#x27;,\n",
       "                                                                                &#x27;SibSp&#x27;,\n",
       "                                                                                &#x27;Parch&#x27;,\n",
       "                                                                                &#x27;Fa...\n",
       "                                                                               Index([&#x27;Cabin&#x27;, &#x27;CabinLetter&#x27;, &#x27;Embarked&#x27;, &#x27;Sex&#x27;, &#x27;TicketPrefix&#x27;, &#x27;Title&#x27;], dtype=&#x27;object&#x27;))])),\n",
       "                                             (&#x27;gb_clf&#x27;,\n",
       "                                              GradientBoostingClassifier(random_state=42))]),\n",
       "                   n_jobs=-1,\n",
       "                   param_distributions={&#x27;gb_clf__learning_rate&#x27;: [0.01, 0.05,\n",
       "                                                                  0.1, 0.2],\n",
       "                                        &#x27;gb_clf__max_depth&#x27;: [3, 5, 10],\n",
       "                                        &#x27;gb_clf__min_samples_leaf&#x27;: [1, 2, 4],\n",
       "                                        &#x27;gb_clf__min_samples_split&#x27;: [2, 5, 10],\n",
       "                                        &#x27;gb_clf__n_estimators&#x27;: [100, 200, 500],\n",
       "                                        &#x27;gb_clf__subsample&#x27;: [0.8, 1.0]},\n",
       "                   scoring=&#x27;f1&#x27;)</pre><b>In a Jupyter environment, please rerun this cell to show the HTML representation or trust the notebook. <br />On GitHub, the HTML representation is unable to render, please try loading this page with nbviewer.org.</b></div><div class=\"sk-container\" hidden><div class=\"sk-item sk-dashed-wrapped\"><div class=\"sk-label-container\"><div class=\"sk-label sk-toggleable\"><input class=\"sk-toggleable__control sk-hidden--visually\" id=\"sk-estimator-id-15\" type=\"checkbox\" ><label for=\"sk-estimator-id-15\" class=\"sk-toggleable__label sk-toggleable__label-arrow\">RandomizedSearchCV</label><div class=\"sk-toggleable__content\"><pre>RandomizedSearchCV(cv=3,\n",
       "                   estimator=Pipeline(steps=[(&#x27;preprocessor5&#x27;,\n",
       "                                              ColumnTransformer(transformers=[(&#x27;log&#x27;,\n",
       "                                                                               Pipeline(steps=[(&#x27;simpleimputer&#x27;,\n",
       "                                                                                                SimpleImputer(strategy=&#x27;median&#x27;)),\n",
       "                                                                                               (&#x27;functiontransformer&#x27;,\n",
       "                                                                                                FunctionTransformer(feature_names_out=&#x27;one-to-one&#x27;,\n",
       "                                                                                                                    func=&lt;ufunc &#x27;log1p&#x27;&gt;)),\n",
       "                                                                                               (&#x27;standardscaler&#x27;,\n",
       "                                                                                                StandardScaler())]),\n",
       "                                                                               [&#x27;FarePerPerson&#x27;,\n",
       "                                                                                &#x27;Fare&#x27;,\n",
       "                                                                                &#x27;SibSp&#x27;,\n",
       "                                                                                &#x27;Parch&#x27;,\n",
       "                                                                                &#x27;Fa...\n",
       "                                                                               Index([&#x27;Cabin&#x27;, &#x27;CabinLetter&#x27;, &#x27;Embarked&#x27;, &#x27;Sex&#x27;, &#x27;TicketPrefix&#x27;, &#x27;Title&#x27;], dtype=&#x27;object&#x27;))])),\n",
       "                                             (&#x27;gb_clf&#x27;,\n",
       "                                              GradientBoostingClassifier(random_state=42))]),\n",
       "                   n_jobs=-1,\n",
       "                   param_distributions={&#x27;gb_clf__learning_rate&#x27;: [0.01, 0.05,\n",
       "                                                                  0.1, 0.2],\n",
       "                                        &#x27;gb_clf__max_depth&#x27;: [3, 5, 10],\n",
       "                                        &#x27;gb_clf__min_samples_leaf&#x27;: [1, 2, 4],\n",
       "                                        &#x27;gb_clf__min_samples_split&#x27;: [2, 5, 10],\n",
       "                                        &#x27;gb_clf__n_estimators&#x27;: [100, 200, 500],\n",
       "                                        &#x27;gb_clf__subsample&#x27;: [0.8, 1.0]},\n",
       "                   scoring=&#x27;f1&#x27;)</pre></div></div></div><div class=\"sk-parallel\"><div class=\"sk-parallel-item\"><div class=\"sk-item\"><div class=\"sk-label-container\"><div class=\"sk-label sk-toggleable\"><input class=\"sk-toggleable__control sk-hidden--visually\" id=\"sk-estimator-id-16\" type=\"checkbox\" ><label for=\"sk-estimator-id-16\" class=\"sk-toggleable__label sk-toggleable__label-arrow\">estimator: Pipeline</label><div class=\"sk-toggleable__content\"><pre>Pipeline(steps=[(&#x27;preprocessor5&#x27;,\n",
       "                 ColumnTransformer(transformers=[(&#x27;log&#x27;,\n",
       "                                                  Pipeline(steps=[(&#x27;simpleimputer&#x27;,\n",
       "                                                                   SimpleImputer(strategy=&#x27;median&#x27;)),\n",
       "                                                                  (&#x27;functiontransformer&#x27;,\n",
       "                                                                   FunctionTransformer(feature_names_out=&#x27;one-to-one&#x27;,\n",
       "                                                                                       func=&lt;ufunc &#x27;log1p&#x27;&gt;)),\n",
       "                                                                  (&#x27;standardscaler&#x27;,\n",
       "                                                                   StandardScaler())]),\n",
       "                                                  [&#x27;FarePerPerson&#x27;, &#x27;Fare&#x27;,\n",
       "                                                   &#x27;SibSp&#x27;, &#x27;Parch&#x27;,\n",
       "                                                   &#x27;FamilySize&#x27;, &#x27;Age*Class&#x27;]),\n",
       "                                                 (&#x27;num&#x27;,\n",
       "                                                  Pip...\n",
       "                                                  Index([&#x27;Age&#x27;, &#x27;Age*Class&#x27;, &#x27;FamilySize&#x27;, &#x27;Fare&#x27;, &#x27;FarePerPerson&#x27;, &#x27;HadCabin&#x27;,\n",
       "       &#x27;IsAlone&#x27;, &#x27;Parch&#x27;, &#x27;Pclass&#x27;, &#x27;SibSp&#x27;],\n",
       "      dtype=&#x27;object&#x27;)),\n",
       "                                                 (&#x27;cat&#x27;,\n",
       "                                                  Pipeline(steps=[(&#x27;simpleimputer&#x27;,\n",
       "                                                                   SimpleImputer(strategy=&#x27;most_frequent&#x27;)),\n",
       "                                                                  (&#x27;onehotencoder&#x27;,\n",
       "                                                                   OneHotEncoder(handle_unknown=&#x27;ignore&#x27;))]),\n",
       "                                                  Index([&#x27;Cabin&#x27;, &#x27;CabinLetter&#x27;, &#x27;Embarked&#x27;, &#x27;Sex&#x27;, &#x27;TicketPrefix&#x27;, &#x27;Title&#x27;], dtype=&#x27;object&#x27;))])),\n",
       "                (&#x27;gb_clf&#x27;, GradientBoostingClassifier(random_state=42))])</pre></div></div></div><div class=\"sk-serial\"><div class=\"sk-item\"><div class=\"sk-serial\"><div class=\"sk-item sk-dashed-wrapped\"><div class=\"sk-label-container\"><div class=\"sk-label sk-toggleable\"><input class=\"sk-toggleable__control sk-hidden--visually\" id=\"sk-estimator-id-17\" type=\"checkbox\" ><label for=\"sk-estimator-id-17\" class=\"sk-toggleable__label sk-toggleable__label-arrow\">preprocessor5: ColumnTransformer</label><div class=\"sk-toggleable__content\"><pre>ColumnTransformer(transformers=[(&#x27;log&#x27;,\n",
       "                                 Pipeline(steps=[(&#x27;simpleimputer&#x27;,\n",
       "                                                  SimpleImputer(strategy=&#x27;median&#x27;)),\n",
       "                                                 (&#x27;functiontransformer&#x27;,\n",
       "                                                  FunctionTransformer(feature_names_out=&#x27;one-to-one&#x27;,\n",
       "                                                                      func=&lt;ufunc &#x27;log1p&#x27;&gt;)),\n",
       "                                                 (&#x27;standardscaler&#x27;,\n",
       "                                                  StandardScaler())]),\n",
       "                                 [&#x27;FarePerPerson&#x27;, &#x27;Fare&#x27;, &#x27;SibSp&#x27;, &#x27;Parch&#x27;,\n",
       "                                  &#x27;FamilySize&#x27;, &#x27;Age*Class&#x27;]),\n",
       "                                (&#x27;num&#x27;,\n",
       "                                 Pipeline(steps=[(&#x27;simpleimputer&#x27;,\n",
       "                                                  Sim...\n",
       "                                 Index([&#x27;Age&#x27;, &#x27;Age*Class&#x27;, &#x27;FamilySize&#x27;, &#x27;Fare&#x27;, &#x27;FarePerPerson&#x27;, &#x27;HadCabin&#x27;,\n",
       "       &#x27;IsAlone&#x27;, &#x27;Parch&#x27;, &#x27;Pclass&#x27;, &#x27;SibSp&#x27;],\n",
       "      dtype=&#x27;object&#x27;)),\n",
       "                                (&#x27;cat&#x27;,\n",
       "                                 Pipeline(steps=[(&#x27;simpleimputer&#x27;,\n",
       "                                                  SimpleImputer(strategy=&#x27;most_frequent&#x27;)),\n",
       "                                                 (&#x27;onehotencoder&#x27;,\n",
       "                                                  OneHotEncoder(handle_unknown=&#x27;ignore&#x27;))]),\n",
       "                                 Index([&#x27;Cabin&#x27;, &#x27;CabinLetter&#x27;, &#x27;Embarked&#x27;, &#x27;Sex&#x27;, &#x27;TicketPrefix&#x27;, &#x27;Title&#x27;], dtype=&#x27;object&#x27;))])</pre></div></div></div><div class=\"sk-parallel\"><div class=\"sk-parallel-item\"><div class=\"sk-item\"><div class=\"sk-label-container\"><div class=\"sk-label sk-toggleable\"><input class=\"sk-toggleable__control sk-hidden--visually\" id=\"sk-estimator-id-18\" type=\"checkbox\" ><label for=\"sk-estimator-id-18\" class=\"sk-toggleable__label sk-toggleable__label-arrow\">log</label><div class=\"sk-toggleable__content\"><pre>[&#x27;FarePerPerson&#x27;, &#x27;Fare&#x27;, &#x27;SibSp&#x27;, &#x27;Parch&#x27;, &#x27;FamilySize&#x27;, &#x27;Age*Class&#x27;]</pre></div></div></div><div class=\"sk-serial\"><div class=\"sk-item\"><div class=\"sk-serial\"><div class=\"sk-item\"><div class=\"sk-estimator sk-toggleable\"><input class=\"sk-toggleable__control sk-hidden--visually\" id=\"sk-estimator-id-19\" type=\"checkbox\" ><label for=\"sk-estimator-id-19\" class=\"sk-toggleable__label sk-toggleable__label-arrow\">SimpleImputer</label><div class=\"sk-toggleable__content\"><pre>SimpleImputer(strategy=&#x27;median&#x27;)</pre></div></div></div><div class=\"sk-item\"><div class=\"sk-estimator sk-toggleable\"><input class=\"sk-toggleable__control sk-hidden--visually\" id=\"sk-estimator-id-20\" type=\"checkbox\" ><label for=\"sk-estimator-id-20\" class=\"sk-toggleable__label sk-toggleable__label-arrow\">FunctionTransformer</label><div class=\"sk-toggleable__content\"><pre>FunctionTransformer(feature_names_out=&#x27;one-to-one&#x27;, func=&lt;ufunc &#x27;log1p&#x27;&gt;)</pre></div></div></div><div class=\"sk-item\"><div class=\"sk-estimator sk-toggleable\"><input class=\"sk-toggleable__control sk-hidden--visually\" id=\"sk-estimator-id-21\" type=\"checkbox\" ><label for=\"sk-estimator-id-21\" class=\"sk-toggleable__label sk-toggleable__label-arrow\">StandardScaler</label><div class=\"sk-toggleable__content\"><pre>StandardScaler()</pre></div></div></div></div></div></div></div></div><div class=\"sk-parallel-item\"><div class=\"sk-item\"><div class=\"sk-label-container\"><div class=\"sk-label sk-toggleable\"><input class=\"sk-toggleable__control sk-hidden--visually\" id=\"sk-estimator-id-22\" type=\"checkbox\" ><label for=\"sk-estimator-id-22\" class=\"sk-toggleable__label sk-toggleable__label-arrow\">num</label><div class=\"sk-toggleable__content\"><pre>Index([&#x27;Age&#x27;, &#x27;Age*Class&#x27;, &#x27;FamilySize&#x27;, &#x27;Fare&#x27;, &#x27;FarePerPerson&#x27;, &#x27;HadCabin&#x27;,\n",
       "       &#x27;IsAlone&#x27;, &#x27;Parch&#x27;, &#x27;Pclass&#x27;, &#x27;SibSp&#x27;],\n",
       "      dtype=&#x27;object&#x27;)</pre></div></div></div><div class=\"sk-serial\"><div class=\"sk-item\"><div class=\"sk-serial\"><div class=\"sk-item\"><div class=\"sk-estimator sk-toggleable\"><input class=\"sk-toggleable__control sk-hidden--visually\" id=\"sk-estimator-id-23\" type=\"checkbox\" ><label for=\"sk-estimator-id-23\" class=\"sk-toggleable__label sk-toggleable__label-arrow\">SimpleImputer</label><div class=\"sk-toggleable__content\"><pre>SimpleImputer(strategy=&#x27;median&#x27;)</pre></div></div></div><div class=\"sk-item\"><div class=\"sk-estimator sk-toggleable\"><input class=\"sk-toggleable__control sk-hidden--visually\" id=\"sk-estimator-id-24\" type=\"checkbox\" ><label for=\"sk-estimator-id-24\" class=\"sk-toggleable__label sk-toggleable__label-arrow\">StandardScaler</label><div class=\"sk-toggleable__content\"><pre>StandardScaler()</pre></div></div></div></div></div></div></div></div><div class=\"sk-parallel-item\"><div class=\"sk-item\"><div class=\"sk-label-container\"><div class=\"sk-label sk-toggleable\"><input class=\"sk-toggleable__control sk-hidden--visually\" id=\"sk-estimator-id-25\" type=\"checkbox\" ><label for=\"sk-estimator-id-25\" class=\"sk-toggleable__label sk-toggleable__label-arrow\">cat</label><div class=\"sk-toggleable__content\"><pre>Index([&#x27;Cabin&#x27;, &#x27;CabinLetter&#x27;, &#x27;Embarked&#x27;, &#x27;Sex&#x27;, &#x27;TicketPrefix&#x27;, &#x27;Title&#x27;], dtype=&#x27;object&#x27;)</pre></div></div></div><div class=\"sk-serial\"><div class=\"sk-item\"><div class=\"sk-serial\"><div class=\"sk-item\"><div class=\"sk-estimator sk-toggleable\"><input class=\"sk-toggleable__control sk-hidden--visually\" id=\"sk-estimator-id-26\" type=\"checkbox\" ><label for=\"sk-estimator-id-26\" class=\"sk-toggleable__label sk-toggleable__label-arrow\">SimpleImputer</label><div class=\"sk-toggleable__content\"><pre>SimpleImputer(strategy=&#x27;most_frequent&#x27;)</pre></div></div></div><div class=\"sk-item\"><div class=\"sk-estimator sk-toggleable\"><input class=\"sk-toggleable__control sk-hidden--visually\" id=\"sk-estimator-id-27\" type=\"checkbox\" ><label for=\"sk-estimator-id-27\" class=\"sk-toggleable__label sk-toggleable__label-arrow\">OneHotEncoder</label><div class=\"sk-toggleable__content\"><pre>OneHotEncoder(handle_unknown=&#x27;ignore&#x27;)</pre></div></div></div></div></div></div></div></div></div></div><div class=\"sk-item\"><div class=\"sk-estimator sk-toggleable\"><input class=\"sk-toggleable__control sk-hidden--visually\" id=\"sk-estimator-id-28\" type=\"checkbox\" ><label for=\"sk-estimator-id-28\" class=\"sk-toggleable__label sk-toggleable__label-arrow\">GradientBoostingClassifier</label><div class=\"sk-toggleable__content\"><pre>GradientBoostingClassifier(random_state=42)</pre></div></div></div></div></div></div></div></div></div></div></div></div>"
      ],
      "text/plain": [
       "RandomizedSearchCV(cv=3,\n",
       "                   estimator=Pipeline(steps=[('preprocessor5',\n",
       "                                              ColumnTransformer(transformers=[('log',\n",
       "                                                                               Pipeline(steps=[('simpleimputer',\n",
       "                                                                                                SimpleImputer(strategy='median')),\n",
       "                                                                                               ('functiontransformer',\n",
       "                                                                                                FunctionTransformer(feature_names_out='one-to-one',\n",
       "                                                                                                                    func=<ufunc 'log1p'>)),\n",
       "                                                                                               ('standardscaler',\n",
       "                                                                                                StandardScaler())]),\n",
       "                                                                               ['FarePerPerson',\n",
       "                                                                                'Fare',\n",
       "                                                                                'SibSp',\n",
       "                                                                                'Parch',\n",
       "                                                                                'Fa...\n",
       "                                                                               Index(['Cabin', 'CabinLetter', 'Embarked', 'Sex', 'TicketPrefix', 'Title'], dtype='object'))])),\n",
       "                                             ('gb_clf',\n",
       "                                              GradientBoostingClassifier(random_state=42))]),\n",
       "                   n_jobs=-1,\n",
       "                   param_distributions={'gb_clf__learning_rate': [0.01, 0.05,\n",
       "                                                                  0.1, 0.2],\n",
       "                                        'gb_clf__max_depth': [3, 5, 10],\n",
       "                                        'gb_clf__min_samples_leaf': [1, 2, 4],\n",
       "                                        'gb_clf__min_samples_split': [2, 5, 10],\n",
       "                                        'gb_clf__n_estimators': [100, 200, 500],\n",
       "                                        'gb_clf__subsample': [0.8, 1.0]},\n",
       "                   scoring='f1')"
      ]
     },
     "execution_count": 19,
     "metadata": {},
     "output_type": "execute_result"
    }
   ],
   "source": [
    "#RANDOMISE SEARCH FOR GRADIENT BOOSTING CLASSIFIER\n",
    "from sklearn.ensemble import GradientBoostingClassifier\n",
    "\n",
    "gb_params = {\n",
    "    'gb_clf__n_estimators': [100, 200, 500],\n",
    "    'gb_clf__learning_rate': [0.01, 0.05, 0.1, 0.2],\n",
    "    'gb_clf__max_depth': [3, 5, 10],\n",
    "    'gb_clf__min_samples_split': [2, 5, 10],\n",
    "    'gb_clf__min_samples_leaf': [1, 2, 4],\n",
    "    'gb_clf__subsample': [0.8, 1.0]\n",
    "}\n",
    "\n",
    "gb_search =RandomizedSearchCV(gb_clf, gb_params, cv=3, scoring='f1', n_jobs=-1, verbose=0)\n",
    "gb_search.fit(X_train, y_train)"
   ]
  },
  {
   "cell_type": "code",
   "execution_count": 20,
   "id": "c6d04494",
   "metadata": {
    "execution": {
     "iopub.execute_input": "2025-04-25T08:53:04.737674Z",
     "iopub.status.busy": "2025-04-25T08:53:04.737349Z",
     "iopub.status.idle": "2025-04-25T08:53:08.481609Z",
     "shell.execute_reply": "2025-04-25T08:53:08.480756Z"
    },
    "papermill": {
     "duration": 3.75582,
     "end_time": "2025-04-25T08:53:08.483057",
     "exception": false,
     "start_time": "2025-04-25T08:53:04.727237",
     "status": "completed"
    },
    "tags": []
   },
   "outputs": [
    {
     "data": {
      "text/html": [
       "<style>#sk-container-id-3 {color: black;background-color: white;}#sk-container-id-3 pre{padding: 0;}#sk-container-id-3 div.sk-toggleable {background-color: white;}#sk-container-id-3 label.sk-toggleable__label {cursor: pointer;display: block;width: 100%;margin-bottom: 0;padding: 0.3em;box-sizing: border-box;text-align: center;}#sk-container-id-3 label.sk-toggleable__label-arrow:before {content: \"▸\";float: left;margin-right: 0.25em;color: #696969;}#sk-container-id-3 label.sk-toggleable__label-arrow:hover:before {color: black;}#sk-container-id-3 div.sk-estimator:hover label.sk-toggleable__label-arrow:before {color: black;}#sk-container-id-3 div.sk-toggleable__content {max-height: 0;max-width: 0;overflow: hidden;text-align: left;background-color: #f0f8ff;}#sk-container-id-3 div.sk-toggleable__content pre {margin: 0.2em;color: black;border-radius: 0.25em;background-color: #f0f8ff;}#sk-container-id-3 input.sk-toggleable__control:checked~div.sk-toggleable__content {max-height: 200px;max-width: 100%;overflow: auto;}#sk-container-id-3 input.sk-toggleable__control:checked~label.sk-toggleable__label-arrow:before {content: \"▾\";}#sk-container-id-3 div.sk-estimator input.sk-toggleable__control:checked~label.sk-toggleable__label {background-color: #d4ebff;}#sk-container-id-3 div.sk-label input.sk-toggleable__control:checked~label.sk-toggleable__label {background-color: #d4ebff;}#sk-container-id-3 input.sk-hidden--visually {border: 0;clip: rect(1px 1px 1px 1px);clip: rect(1px, 1px, 1px, 1px);height: 1px;margin: -1px;overflow: hidden;padding: 0;position: absolute;width: 1px;}#sk-container-id-3 div.sk-estimator {font-family: monospace;background-color: #f0f8ff;border: 1px dotted black;border-radius: 0.25em;box-sizing: border-box;margin-bottom: 0.5em;}#sk-container-id-3 div.sk-estimator:hover {background-color: #d4ebff;}#sk-container-id-3 div.sk-parallel-item::after {content: \"\";width: 100%;border-bottom: 1px solid gray;flex-grow: 1;}#sk-container-id-3 div.sk-label:hover label.sk-toggleable__label {background-color: #d4ebff;}#sk-container-id-3 div.sk-serial::before {content: \"\";position: absolute;border-left: 1px solid gray;box-sizing: border-box;top: 0;bottom: 0;left: 50%;z-index: 0;}#sk-container-id-3 div.sk-serial {display: flex;flex-direction: column;align-items: center;background-color: white;padding-right: 0.2em;padding-left: 0.2em;position: relative;}#sk-container-id-3 div.sk-item {position: relative;z-index: 1;}#sk-container-id-3 div.sk-parallel {display: flex;align-items: stretch;justify-content: center;background-color: white;position: relative;}#sk-container-id-3 div.sk-item::before, #sk-container-id-3 div.sk-parallel-item::before {content: \"\";position: absolute;border-left: 1px solid gray;box-sizing: border-box;top: 0;bottom: 0;left: 50%;z-index: -1;}#sk-container-id-3 div.sk-parallel-item {display: flex;flex-direction: column;z-index: 1;position: relative;background-color: white;}#sk-container-id-3 div.sk-parallel-item:first-child::after {align-self: flex-end;width: 50%;}#sk-container-id-3 div.sk-parallel-item:last-child::after {align-self: flex-start;width: 50%;}#sk-container-id-3 div.sk-parallel-item:only-child::after {width: 0;}#sk-container-id-3 div.sk-dashed-wrapped {border: 1px dashed gray;margin: 0 0.4em 0.5em 0.4em;box-sizing: border-box;padding-bottom: 0.4em;background-color: white;}#sk-container-id-3 div.sk-label label {font-family: monospace;font-weight: bold;display: inline-block;line-height: 1.2em;}#sk-container-id-3 div.sk-label-container {text-align: center;}#sk-container-id-3 div.sk-container {/* jupyter's `normalize.less` sets `[hidden] { display: none; }` but bootstrap.min.css set `[hidden] { display: none !important; }` so we also need the `!important` here to be able to override the default hidden behavior on the sphinx rendered scikit-learn.org. See: https://github.com/scikit-learn/scikit-learn/issues/21755 */display: inline-block !important;position: relative;}#sk-container-id-3 div.sk-text-repr-fallback {display: none;}</style><div id=\"sk-container-id-3\" class=\"sk-top-container\"><div class=\"sk-text-repr-fallback\"><pre>RandomizedSearchCV(cv=3,\n",
       "                   estimator=Pipeline(steps=[(&#x27;prepocessor3&#x27;,\n",
       "                                              ColumnTransformer(transformers=[(&#x27;log&#x27;,\n",
       "                                                                               Pipeline(steps=[(&#x27;simpleimputer&#x27;,\n",
       "                                                                                                SimpleImputer(strategy=&#x27;median&#x27;)),\n",
       "                                                                                               (&#x27;functiontransformer&#x27;,\n",
       "                                                                                                FunctionTransformer(feature_names_out=&#x27;one-to-one&#x27;,\n",
       "                                                                                                                    func=&lt;ufunc &#x27;log1p&#x27;&gt;)),\n",
       "                                                                                               (&#x27;standardscaler&#x27;,\n",
       "                                                                                                StandardScaler())]),\n",
       "                                                                               [&#x27;FarePerPerson&#x27;,\n",
       "                                                                                &#x27;Fare&#x27;,\n",
       "                                                                                &#x27;SibSp&#x27;,\n",
       "                                                                                &#x27;Parch&#x27;,\n",
       "                                                                                &#x27;Fam...\n",
       "                                                                                               (&#x27;onehotencoder&#x27;,\n",
       "                                                                                                OneHotEncoder(handle_unknown=&#x27;ignore&#x27;))]),\n",
       "                                                                               Index([&#x27;Cabin&#x27;, &#x27;CabinLetter&#x27;, &#x27;Embarked&#x27;, &#x27;Sex&#x27;, &#x27;TicketPrefix&#x27;, &#x27;Title&#x27;], dtype=&#x27;object&#x27;))])),\n",
       "                                             (&#x27;svc_clf&#x27;,\n",
       "                                              SVC(probability=True,\n",
       "                                                  random_state=42))]),\n",
       "                   n_jobs=-1,\n",
       "                   param_distributions={&#x27;svc_clf__C&#x27;: [0.1, 1, 10, 100],\n",
       "                                        &#x27;svc_clf__gamma&#x27;: [&#x27;scale&#x27;, &#x27;auto&#x27;],\n",
       "                                        &#x27;svc_clf__kernel&#x27;: [&#x27;linear&#x27;, &#x27;rbf&#x27;,\n",
       "                                                            &#x27;poly&#x27;]},\n",
       "                   scoring=&#x27;f1&#x27;)</pre><b>In a Jupyter environment, please rerun this cell to show the HTML representation or trust the notebook. <br />On GitHub, the HTML representation is unable to render, please try loading this page with nbviewer.org.</b></div><div class=\"sk-container\" hidden><div class=\"sk-item sk-dashed-wrapped\"><div class=\"sk-label-container\"><div class=\"sk-label sk-toggleable\"><input class=\"sk-toggleable__control sk-hidden--visually\" id=\"sk-estimator-id-29\" type=\"checkbox\" ><label for=\"sk-estimator-id-29\" class=\"sk-toggleable__label sk-toggleable__label-arrow\">RandomizedSearchCV</label><div class=\"sk-toggleable__content\"><pre>RandomizedSearchCV(cv=3,\n",
       "                   estimator=Pipeline(steps=[(&#x27;prepocessor3&#x27;,\n",
       "                                              ColumnTransformer(transformers=[(&#x27;log&#x27;,\n",
       "                                                                               Pipeline(steps=[(&#x27;simpleimputer&#x27;,\n",
       "                                                                                                SimpleImputer(strategy=&#x27;median&#x27;)),\n",
       "                                                                                               (&#x27;functiontransformer&#x27;,\n",
       "                                                                                                FunctionTransformer(feature_names_out=&#x27;one-to-one&#x27;,\n",
       "                                                                                                                    func=&lt;ufunc &#x27;log1p&#x27;&gt;)),\n",
       "                                                                                               (&#x27;standardscaler&#x27;,\n",
       "                                                                                                StandardScaler())]),\n",
       "                                                                               [&#x27;FarePerPerson&#x27;,\n",
       "                                                                                &#x27;Fare&#x27;,\n",
       "                                                                                &#x27;SibSp&#x27;,\n",
       "                                                                                &#x27;Parch&#x27;,\n",
       "                                                                                &#x27;Fam...\n",
       "                                                                                               (&#x27;onehotencoder&#x27;,\n",
       "                                                                                                OneHotEncoder(handle_unknown=&#x27;ignore&#x27;))]),\n",
       "                                                                               Index([&#x27;Cabin&#x27;, &#x27;CabinLetter&#x27;, &#x27;Embarked&#x27;, &#x27;Sex&#x27;, &#x27;TicketPrefix&#x27;, &#x27;Title&#x27;], dtype=&#x27;object&#x27;))])),\n",
       "                                             (&#x27;svc_clf&#x27;,\n",
       "                                              SVC(probability=True,\n",
       "                                                  random_state=42))]),\n",
       "                   n_jobs=-1,\n",
       "                   param_distributions={&#x27;svc_clf__C&#x27;: [0.1, 1, 10, 100],\n",
       "                                        &#x27;svc_clf__gamma&#x27;: [&#x27;scale&#x27;, &#x27;auto&#x27;],\n",
       "                                        &#x27;svc_clf__kernel&#x27;: [&#x27;linear&#x27;, &#x27;rbf&#x27;,\n",
       "                                                            &#x27;poly&#x27;]},\n",
       "                   scoring=&#x27;f1&#x27;)</pre></div></div></div><div class=\"sk-parallel\"><div class=\"sk-parallel-item\"><div class=\"sk-item\"><div class=\"sk-label-container\"><div class=\"sk-label sk-toggleable\"><input class=\"sk-toggleable__control sk-hidden--visually\" id=\"sk-estimator-id-30\" type=\"checkbox\" ><label for=\"sk-estimator-id-30\" class=\"sk-toggleable__label sk-toggleable__label-arrow\">estimator: Pipeline</label><div class=\"sk-toggleable__content\"><pre>Pipeline(steps=[(&#x27;prepocessor3&#x27;,\n",
       "                 ColumnTransformer(transformers=[(&#x27;log&#x27;,\n",
       "                                                  Pipeline(steps=[(&#x27;simpleimputer&#x27;,\n",
       "                                                                   SimpleImputer(strategy=&#x27;median&#x27;)),\n",
       "                                                                  (&#x27;functiontransformer&#x27;,\n",
       "                                                                   FunctionTransformer(feature_names_out=&#x27;one-to-one&#x27;,\n",
       "                                                                                       func=&lt;ufunc &#x27;log1p&#x27;&gt;)),\n",
       "                                                                  (&#x27;standardscaler&#x27;,\n",
       "                                                                   StandardScaler())]),\n",
       "                                                  [&#x27;FarePerPerson&#x27;, &#x27;Fare&#x27;,\n",
       "                                                   &#x27;SibSp&#x27;, &#x27;Parch&#x27;,\n",
       "                                                   &#x27;FamilySize&#x27;, &#x27;Age*Class&#x27;]),\n",
       "                                                 (&#x27;num&#x27;,\n",
       "                                                  Pipe...\n",
       "                                                  Index([&#x27;Age&#x27;, &#x27;Age*Class&#x27;, &#x27;FamilySize&#x27;, &#x27;Fare&#x27;, &#x27;FarePerPerson&#x27;, &#x27;HadCabin&#x27;,\n",
       "       &#x27;IsAlone&#x27;, &#x27;Parch&#x27;, &#x27;Pclass&#x27;, &#x27;SibSp&#x27;],\n",
       "      dtype=&#x27;object&#x27;)),\n",
       "                                                 (&#x27;cat&#x27;,\n",
       "                                                  Pipeline(steps=[(&#x27;simpleimputer&#x27;,\n",
       "                                                                   SimpleImputer(strategy=&#x27;most_frequent&#x27;)),\n",
       "                                                                  (&#x27;onehotencoder&#x27;,\n",
       "                                                                   OneHotEncoder(handle_unknown=&#x27;ignore&#x27;))]),\n",
       "                                                  Index([&#x27;Cabin&#x27;, &#x27;CabinLetter&#x27;, &#x27;Embarked&#x27;, &#x27;Sex&#x27;, &#x27;TicketPrefix&#x27;, &#x27;Title&#x27;], dtype=&#x27;object&#x27;))])),\n",
       "                (&#x27;svc_clf&#x27;, SVC(probability=True, random_state=42))])</pre></div></div></div><div class=\"sk-serial\"><div class=\"sk-item\"><div class=\"sk-serial\"><div class=\"sk-item sk-dashed-wrapped\"><div class=\"sk-label-container\"><div class=\"sk-label sk-toggleable\"><input class=\"sk-toggleable__control sk-hidden--visually\" id=\"sk-estimator-id-31\" type=\"checkbox\" ><label for=\"sk-estimator-id-31\" class=\"sk-toggleable__label sk-toggleable__label-arrow\">prepocessor3: ColumnTransformer</label><div class=\"sk-toggleable__content\"><pre>ColumnTransformer(transformers=[(&#x27;log&#x27;,\n",
       "                                 Pipeline(steps=[(&#x27;simpleimputer&#x27;,\n",
       "                                                  SimpleImputer(strategy=&#x27;median&#x27;)),\n",
       "                                                 (&#x27;functiontransformer&#x27;,\n",
       "                                                  FunctionTransformer(feature_names_out=&#x27;one-to-one&#x27;,\n",
       "                                                                      func=&lt;ufunc &#x27;log1p&#x27;&gt;)),\n",
       "                                                 (&#x27;standardscaler&#x27;,\n",
       "                                                  StandardScaler())]),\n",
       "                                 [&#x27;FarePerPerson&#x27;, &#x27;Fare&#x27;, &#x27;SibSp&#x27;, &#x27;Parch&#x27;,\n",
       "                                  &#x27;FamilySize&#x27;, &#x27;Age*Class&#x27;]),\n",
       "                                (&#x27;num&#x27;,\n",
       "                                 Pipeline(steps=[(&#x27;simpleimputer&#x27;,\n",
       "                                                  Sim...\n",
       "                                 Index([&#x27;Age&#x27;, &#x27;Age*Class&#x27;, &#x27;FamilySize&#x27;, &#x27;Fare&#x27;, &#x27;FarePerPerson&#x27;, &#x27;HadCabin&#x27;,\n",
       "       &#x27;IsAlone&#x27;, &#x27;Parch&#x27;, &#x27;Pclass&#x27;, &#x27;SibSp&#x27;],\n",
       "      dtype=&#x27;object&#x27;)),\n",
       "                                (&#x27;cat&#x27;,\n",
       "                                 Pipeline(steps=[(&#x27;simpleimputer&#x27;,\n",
       "                                                  SimpleImputer(strategy=&#x27;most_frequent&#x27;)),\n",
       "                                                 (&#x27;onehotencoder&#x27;,\n",
       "                                                  OneHotEncoder(handle_unknown=&#x27;ignore&#x27;))]),\n",
       "                                 Index([&#x27;Cabin&#x27;, &#x27;CabinLetter&#x27;, &#x27;Embarked&#x27;, &#x27;Sex&#x27;, &#x27;TicketPrefix&#x27;, &#x27;Title&#x27;], dtype=&#x27;object&#x27;))])</pre></div></div></div><div class=\"sk-parallel\"><div class=\"sk-parallel-item\"><div class=\"sk-item\"><div class=\"sk-label-container\"><div class=\"sk-label sk-toggleable\"><input class=\"sk-toggleable__control sk-hidden--visually\" id=\"sk-estimator-id-32\" type=\"checkbox\" ><label for=\"sk-estimator-id-32\" class=\"sk-toggleable__label sk-toggleable__label-arrow\">log</label><div class=\"sk-toggleable__content\"><pre>[&#x27;FarePerPerson&#x27;, &#x27;Fare&#x27;, &#x27;SibSp&#x27;, &#x27;Parch&#x27;, &#x27;FamilySize&#x27;, &#x27;Age*Class&#x27;]</pre></div></div></div><div class=\"sk-serial\"><div class=\"sk-item\"><div class=\"sk-serial\"><div class=\"sk-item\"><div class=\"sk-estimator sk-toggleable\"><input class=\"sk-toggleable__control sk-hidden--visually\" id=\"sk-estimator-id-33\" type=\"checkbox\" ><label for=\"sk-estimator-id-33\" class=\"sk-toggleable__label sk-toggleable__label-arrow\">SimpleImputer</label><div class=\"sk-toggleable__content\"><pre>SimpleImputer(strategy=&#x27;median&#x27;)</pre></div></div></div><div class=\"sk-item\"><div class=\"sk-estimator sk-toggleable\"><input class=\"sk-toggleable__control sk-hidden--visually\" id=\"sk-estimator-id-34\" type=\"checkbox\" ><label for=\"sk-estimator-id-34\" class=\"sk-toggleable__label sk-toggleable__label-arrow\">FunctionTransformer</label><div class=\"sk-toggleable__content\"><pre>FunctionTransformer(feature_names_out=&#x27;one-to-one&#x27;, func=&lt;ufunc &#x27;log1p&#x27;&gt;)</pre></div></div></div><div class=\"sk-item\"><div class=\"sk-estimator sk-toggleable\"><input class=\"sk-toggleable__control sk-hidden--visually\" id=\"sk-estimator-id-35\" type=\"checkbox\" ><label for=\"sk-estimator-id-35\" class=\"sk-toggleable__label sk-toggleable__label-arrow\">StandardScaler</label><div class=\"sk-toggleable__content\"><pre>StandardScaler()</pre></div></div></div></div></div></div></div></div><div class=\"sk-parallel-item\"><div class=\"sk-item\"><div class=\"sk-label-container\"><div class=\"sk-label sk-toggleable\"><input class=\"sk-toggleable__control sk-hidden--visually\" id=\"sk-estimator-id-36\" type=\"checkbox\" ><label for=\"sk-estimator-id-36\" class=\"sk-toggleable__label sk-toggleable__label-arrow\">num</label><div class=\"sk-toggleable__content\"><pre>Index([&#x27;Age&#x27;, &#x27;Age*Class&#x27;, &#x27;FamilySize&#x27;, &#x27;Fare&#x27;, &#x27;FarePerPerson&#x27;, &#x27;HadCabin&#x27;,\n",
       "       &#x27;IsAlone&#x27;, &#x27;Parch&#x27;, &#x27;Pclass&#x27;, &#x27;SibSp&#x27;],\n",
       "      dtype=&#x27;object&#x27;)</pre></div></div></div><div class=\"sk-serial\"><div class=\"sk-item\"><div class=\"sk-serial\"><div class=\"sk-item\"><div class=\"sk-estimator sk-toggleable\"><input class=\"sk-toggleable__control sk-hidden--visually\" id=\"sk-estimator-id-37\" type=\"checkbox\" ><label for=\"sk-estimator-id-37\" class=\"sk-toggleable__label sk-toggleable__label-arrow\">SimpleImputer</label><div class=\"sk-toggleable__content\"><pre>SimpleImputer(strategy=&#x27;median&#x27;)</pre></div></div></div><div class=\"sk-item\"><div class=\"sk-estimator sk-toggleable\"><input class=\"sk-toggleable__control sk-hidden--visually\" id=\"sk-estimator-id-38\" type=\"checkbox\" ><label for=\"sk-estimator-id-38\" class=\"sk-toggleable__label sk-toggleable__label-arrow\">StandardScaler</label><div class=\"sk-toggleable__content\"><pre>StandardScaler()</pre></div></div></div></div></div></div></div></div><div class=\"sk-parallel-item\"><div class=\"sk-item\"><div class=\"sk-label-container\"><div class=\"sk-label sk-toggleable\"><input class=\"sk-toggleable__control sk-hidden--visually\" id=\"sk-estimator-id-39\" type=\"checkbox\" ><label for=\"sk-estimator-id-39\" class=\"sk-toggleable__label sk-toggleable__label-arrow\">cat</label><div class=\"sk-toggleable__content\"><pre>Index([&#x27;Cabin&#x27;, &#x27;CabinLetter&#x27;, &#x27;Embarked&#x27;, &#x27;Sex&#x27;, &#x27;TicketPrefix&#x27;, &#x27;Title&#x27;], dtype=&#x27;object&#x27;)</pre></div></div></div><div class=\"sk-serial\"><div class=\"sk-item\"><div class=\"sk-serial\"><div class=\"sk-item\"><div class=\"sk-estimator sk-toggleable\"><input class=\"sk-toggleable__control sk-hidden--visually\" id=\"sk-estimator-id-40\" type=\"checkbox\" ><label for=\"sk-estimator-id-40\" class=\"sk-toggleable__label sk-toggleable__label-arrow\">SimpleImputer</label><div class=\"sk-toggleable__content\"><pre>SimpleImputer(strategy=&#x27;most_frequent&#x27;)</pre></div></div></div><div class=\"sk-item\"><div class=\"sk-estimator sk-toggleable\"><input class=\"sk-toggleable__control sk-hidden--visually\" id=\"sk-estimator-id-41\" type=\"checkbox\" ><label for=\"sk-estimator-id-41\" class=\"sk-toggleable__label sk-toggleable__label-arrow\">OneHotEncoder</label><div class=\"sk-toggleable__content\"><pre>OneHotEncoder(handle_unknown=&#x27;ignore&#x27;)</pre></div></div></div></div></div></div></div></div></div></div><div class=\"sk-item\"><div class=\"sk-estimator sk-toggleable\"><input class=\"sk-toggleable__control sk-hidden--visually\" id=\"sk-estimator-id-42\" type=\"checkbox\" ><label for=\"sk-estimator-id-42\" class=\"sk-toggleable__label sk-toggleable__label-arrow\">SVC</label><div class=\"sk-toggleable__content\"><pre>SVC(probability=True, random_state=42)</pre></div></div></div></div></div></div></div></div></div></div></div></div>"
      ],
      "text/plain": [
       "RandomizedSearchCV(cv=3,\n",
       "                   estimator=Pipeline(steps=[('prepocessor3',\n",
       "                                              ColumnTransformer(transformers=[('log',\n",
       "                                                                               Pipeline(steps=[('simpleimputer',\n",
       "                                                                                                SimpleImputer(strategy='median')),\n",
       "                                                                                               ('functiontransformer',\n",
       "                                                                                                FunctionTransformer(feature_names_out='one-to-one',\n",
       "                                                                                                                    func=<ufunc 'log1p'>)),\n",
       "                                                                                               ('standardscaler',\n",
       "                                                                                                StandardScaler())]),\n",
       "                                                                               ['FarePerPerson',\n",
       "                                                                                'Fare',\n",
       "                                                                                'SibSp',\n",
       "                                                                                'Parch',\n",
       "                                                                                'Fam...\n",
       "                                                                                               ('onehotencoder',\n",
       "                                                                                                OneHotEncoder(handle_unknown='ignore'))]),\n",
       "                                                                               Index(['Cabin', 'CabinLetter', 'Embarked', 'Sex', 'TicketPrefix', 'Title'], dtype='object'))])),\n",
       "                                             ('svc_clf',\n",
       "                                              SVC(probability=True,\n",
       "                                                  random_state=42))]),\n",
       "                   n_jobs=-1,\n",
       "                   param_distributions={'svc_clf__C': [0.1, 1, 10, 100],\n",
       "                                        'svc_clf__gamma': ['scale', 'auto'],\n",
       "                                        'svc_clf__kernel': ['linear', 'rbf',\n",
       "                                                            'poly']},\n",
       "                   scoring='f1')"
      ]
     },
     "execution_count": 20,
     "metadata": {},
     "output_type": "execute_result"
    }
   ],
   "source": [
    "#RANDOMISE SEARCH FOR SVC CLASSIFIER\n",
    "from sklearn.svm import SVC\n",
    "\n",
    "svc_params = {\n",
    "    'svc_clf__C': [0.1, 1, 10, 100],\n",
    "    'svc_clf__kernel': ['linear', 'rbf', 'poly'],\n",
    "    'svc_clf__gamma': ['scale', 'auto']\n",
    "}\n",
    "\n",
    "svc_search = RandomizedSearchCV(svc_clf, svc_params, cv=3, scoring='f1', n_jobs=-1, verbose=0)\n",
    "svc_search.fit(X_train, y_train)"
   ]
  },
  {
   "cell_type": "code",
   "execution_count": 21,
   "id": "90834f43",
   "metadata": {
    "execution": {
     "iopub.execute_input": "2025-04-25T08:53:08.504628Z",
     "iopub.status.busy": "2025-04-25T08:53:08.504303Z",
     "iopub.status.idle": "2025-04-25T08:53:09.687167Z",
     "shell.execute_reply": "2025-04-25T08:53:09.686020Z"
    },
    "papermill": {
     "duration": 1.195957,
     "end_time": "2025-04-25T08:53:09.688994",
     "exception": false,
     "start_time": "2025-04-25T08:53:08.493037",
     "status": "completed"
    },
    "tags": []
   },
   "outputs": [
    {
     "data": {
      "text/html": [
       "<style>#sk-container-id-4 {color: black;background-color: white;}#sk-container-id-4 pre{padding: 0;}#sk-container-id-4 div.sk-toggleable {background-color: white;}#sk-container-id-4 label.sk-toggleable__label {cursor: pointer;display: block;width: 100%;margin-bottom: 0;padding: 0.3em;box-sizing: border-box;text-align: center;}#sk-container-id-4 label.sk-toggleable__label-arrow:before {content: \"▸\";float: left;margin-right: 0.25em;color: #696969;}#sk-container-id-4 label.sk-toggleable__label-arrow:hover:before {color: black;}#sk-container-id-4 div.sk-estimator:hover label.sk-toggleable__label-arrow:before {color: black;}#sk-container-id-4 div.sk-toggleable__content {max-height: 0;max-width: 0;overflow: hidden;text-align: left;background-color: #f0f8ff;}#sk-container-id-4 div.sk-toggleable__content pre {margin: 0.2em;color: black;border-radius: 0.25em;background-color: #f0f8ff;}#sk-container-id-4 input.sk-toggleable__control:checked~div.sk-toggleable__content {max-height: 200px;max-width: 100%;overflow: auto;}#sk-container-id-4 input.sk-toggleable__control:checked~label.sk-toggleable__label-arrow:before {content: \"▾\";}#sk-container-id-4 div.sk-estimator input.sk-toggleable__control:checked~label.sk-toggleable__label {background-color: #d4ebff;}#sk-container-id-4 div.sk-label input.sk-toggleable__control:checked~label.sk-toggleable__label {background-color: #d4ebff;}#sk-container-id-4 input.sk-hidden--visually {border: 0;clip: rect(1px 1px 1px 1px);clip: rect(1px, 1px, 1px, 1px);height: 1px;margin: -1px;overflow: hidden;padding: 0;position: absolute;width: 1px;}#sk-container-id-4 div.sk-estimator {font-family: monospace;background-color: #f0f8ff;border: 1px dotted black;border-radius: 0.25em;box-sizing: border-box;margin-bottom: 0.5em;}#sk-container-id-4 div.sk-estimator:hover {background-color: #d4ebff;}#sk-container-id-4 div.sk-parallel-item::after {content: \"\";width: 100%;border-bottom: 1px solid gray;flex-grow: 1;}#sk-container-id-4 div.sk-label:hover label.sk-toggleable__label {background-color: #d4ebff;}#sk-container-id-4 div.sk-serial::before {content: \"\";position: absolute;border-left: 1px solid gray;box-sizing: border-box;top: 0;bottom: 0;left: 50%;z-index: 0;}#sk-container-id-4 div.sk-serial {display: flex;flex-direction: column;align-items: center;background-color: white;padding-right: 0.2em;padding-left: 0.2em;position: relative;}#sk-container-id-4 div.sk-item {position: relative;z-index: 1;}#sk-container-id-4 div.sk-parallel {display: flex;align-items: stretch;justify-content: center;background-color: white;position: relative;}#sk-container-id-4 div.sk-item::before, #sk-container-id-4 div.sk-parallel-item::before {content: \"\";position: absolute;border-left: 1px solid gray;box-sizing: border-box;top: 0;bottom: 0;left: 50%;z-index: -1;}#sk-container-id-4 div.sk-parallel-item {display: flex;flex-direction: column;z-index: 1;position: relative;background-color: white;}#sk-container-id-4 div.sk-parallel-item:first-child::after {align-self: flex-end;width: 50%;}#sk-container-id-4 div.sk-parallel-item:last-child::after {align-self: flex-start;width: 50%;}#sk-container-id-4 div.sk-parallel-item:only-child::after {width: 0;}#sk-container-id-4 div.sk-dashed-wrapped {border: 1px dashed gray;margin: 0 0.4em 0.5em 0.4em;box-sizing: border-box;padding-bottom: 0.4em;background-color: white;}#sk-container-id-4 div.sk-label label {font-family: monospace;font-weight: bold;display: inline-block;line-height: 1.2em;}#sk-container-id-4 div.sk-label-container {text-align: center;}#sk-container-id-4 div.sk-container {/* jupyter's `normalize.less` sets `[hidden] { display: none; }` but bootstrap.min.css set `[hidden] { display: none !important; }` so we also need the `!important` here to be able to override the default hidden behavior on the sphinx rendered scikit-learn.org. See: https://github.com/scikit-learn/scikit-learn/issues/21755 */display: inline-block !important;position: relative;}#sk-container-id-4 div.sk-text-repr-fallback {display: none;}</style><div id=\"sk-container-id-4\" class=\"sk-top-container\"><div class=\"sk-text-repr-fallback\"><pre>RandomizedSearchCV(cv=3,\n",
       "                   estimator=Pipeline(steps=[(&#x27;preprocessor1&#x27;,\n",
       "                                              ColumnTransformer(transformers=[(&#x27;log&#x27;,\n",
       "                                                                               Pipeline(steps=[(&#x27;simpleimputer&#x27;,\n",
       "                                                                                                SimpleImputer(strategy=&#x27;median&#x27;)),\n",
       "                                                                                               (&#x27;functiontransformer&#x27;,\n",
       "                                                                                                FunctionTransformer(feature_names_out=&#x27;one-to-one&#x27;,\n",
       "                                                                                                                    func=&lt;ufunc &#x27;log1p&#x27;&gt;)),\n",
       "                                                                                               (&#x27;standardscaler&#x27;,\n",
       "                                                                                                StandardScaler())]),\n",
       "                                                                               [&#x27;FarePerPerson&#x27;,\n",
       "                                                                                &#x27;Fare&#x27;,\n",
       "                                                                                &#x27;SibSp&#x27;,\n",
       "                                                                                &#x27;Parch&#x27;,\n",
       "                                                                                &#x27;Fa...\n",
       "                                                                                                SimpleImputer(strategy=&#x27;most_frequent&#x27;)),\n",
       "                                                                                               (&#x27;onehotencoder&#x27;,\n",
       "                                                                                                OneHotEncoder(handle_unknown=&#x27;ignore&#x27;))]),\n",
       "                                                                               Index([&#x27;Cabin&#x27;, &#x27;CabinLetter&#x27;, &#x27;Embarked&#x27;, &#x27;Sex&#x27;, &#x27;TicketPrefix&#x27;, &#x27;Title&#x27;], dtype=&#x27;object&#x27;))])),\n",
       "                                             (&#x27;log_reg&#x27;,\n",
       "                                              LogisticRegression(max_iter=1000,\n",
       "                                                                 random_state=42))]),\n",
       "                   n_jobs=-1,\n",
       "                   param_distributions={&#x27;log_reg__C&#x27;: [0.01, 0.1, 1, 10, 100],\n",
       "                                        &#x27;log_reg__penalty&#x27;: [&#x27;l1&#x27;, &#x27;l2&#x27;]},\n",
       "                   scoring=&#x27;f1&#x27;)</pre><b>In a Jupyter environment, please rerun this cell to show the HTML representation or trust the notebook. <br />On GitHub, the HTML representation is unable to render, please try loading this page with nbviewer.org.</b></div><div class=\"sk-container\" hidden><div class=\"sk-item sk-dashed-wrapped\"><div class=\"sk-label-container\"><div class=\"sk-label sk-toggleable\"><input class=\"sk-toggleable__control sk-hidden--visually\" id=\"sk-estimator-id-43\" type=\"checkbox\" ><label for=\"sk-estimator-id-43\" class=\"sk-toggleable__label sk-toggleable__label-arrow\">RandomizedSearchCV</label><div class=\"sk-toggleable__content\"><pre>RandomizedSearchCV(cv=3,\n",
       "                   estimator=Pipeline(steps=[(&#x27;preprocessor1&#x27;,\n",
       "                                              ColumnTransformer(transformers=[(&#x27;log&#x27;,\n",
       "                                                                               Pipeline(steps=[(&#x27;simpleimputer&#x27;,\n",
       "                                                                                                SimpleImputer(strategy=&#x27;median&#x27;)),\n",
       "                                                                                               (&#x27;functiontransformer&#x27;,\n",
       "                                                                                                FunctionTransformer(feature_names_out=&#x27;one-to-one&#x27;,\n",
       "                                                                                                                    func=&lt;ufunc &#x27;log1p&#x27;&gt;)),\n",
       "                                                                                               (&#x27;standardscaler&#x27;,\n",
       "                                                                                                StandardScaler())]),\n",
       "                                                                               [&#x27;FarePerPerson&#x27;,\n",
       "                                                                                &#x27;Fare&#x27;,\n",
       "                                                                                &#x27;SibSp&#x27;,\n",
       "                                                                                &#x27;Parch&#x27;,\n",
       "                                                                                &#x27;Fa...\n",
       "                                                                                                SimpleImputer(strategy=&#x27;most_frequent&#x27;)),\n",
       "                                                                                               (&#x27;onehotencoder&#x27;,\n",
       "                                                                                                OneHotEncoder(handle_unknown=&#x27;ignore&#x27;))]),\n",
       "                                                                               Index([&#x27;Cabin&#x27;, &#x27;CabinLetter&#x27;, &#x27;Embarked&#x27;, &#x27;Sex&#x27;, &#x27;TicketPrefix&#x27;, &#x27;Title&#x27;], dtype=&#x27;object&#x27;))])),\n",
       "                                             (&#x27;log_reg&#x27;,\n",
       "                                              LogisticRegression(max_iter=1000,\n",
       "                                                                 random_state=42))]),\n",
       "                   n_jobs=-1,\n",
       "                   param_distributions={&#x27;log_reg__C&#x27;: [0.01, 0.1, 1, 10, 100],\n",
       "                                        &#x27;log_reg__penalty&#x27;: [&#x27;l1&#x27;, &#x27;l2&#x27;]},\n",
       "                   scoring=&#x27;f1&#x27;)</pre></div></div></div><div class=\"sk-parallel\"><div class=\"sk-parallel-item\"><div class=\"sk-item\"><div class=\"sk-label-container\"><div class=\"sk-label sk-toggleable\"><input class=\"sk-toggleable__control sk-hidden--visually\" id=\"sk-estimator-id-44\" type=\"checkbox\" ><label for=\"sk-estimator-id-44\" class=\"sk-toggleable__label sk-toggleable__label-arrow\">estimator: Pipeline</label><div class=\"sk-toggleable__content\"><pre>Pipeline(steps=[(&#x27;preprocessor1&#x27;,\n",
       "                 ColumnTransformer(transformers=[(&#x27;log&#x27;,\n",
       "                                                  Pipeline(steps=[(&#x27;simpleimputer&#x27;,\n",
       "                                                                   SimpleImputer(strategy=&#x27;median&#x27;)),\n",
       "                                                                  (&#x27;functiontransformer&#x27;,\n",
       "                                                                   FunctionTransformer(feature_names_out=&#x27;one-to-one&#x27;,\n",
       "                                                                                       func=&lt;ufunc &#x27;log1p&#x27;&gt;)),\n",
       "                                                                  (&#x27;standardscaler&#x27;,\n",
       "                                                                   StandardScaler())]),\n",
       "                                                  [&#x27;FarePerPerson&#x27;, &#x27;Fare&#x27;,\n",
       "                                                   &#x27;SibSp&#x27;, &#x27;Parch&#x27;,\n",
       "                                                   &#x27;FamilySize&#x27;, &#x27;Age*Class&#x27;]),\n",
       "                                                 (&#x27;num&#x27;,\n",
       "                                                  Pip...\n",
       "                                                  Index([&#x27;Age&#x27;, &#x27;Age*Class&#x27;, &#x27;FamilySize&#x27;, &#x27;Fare&#x27;, &#x27;FarePerPerson&#x27;, &#x27;HadCabin&#x27;,\n",
       "       &#x27;IsAlone&#x27;, &#x27;Parch&#x27;, &#x27;Pclass&#x27;, &#x27;SibSp&#x27;],\n",
       "      dtype=&#x27;object&#x27;)),\n",
       "                                                 (&#x27;cat&#x27;,\n",
       "                                                  Pipeline(steps=[(&#x27;simpleimputer&#x27;,\n",
       "                                                                   SimpleImputer(strategy=&#x27;most_frequent&#x27;)),\n",
       "                                                                  (&#x27;onehotencoder&#x27;,\n",
       "                                                                   OneHotEncoder(handle_unknown=&#x27;ignore&#x27;))]),\n",
       "                                                  Index([&#x27;Cabin&#x27;, &#x27;CabinLetter&#x27;, &#x27;Embarked&#x27;, &#x27;Sex&#x27;, &#x27;TicketPrefix&#x27;, &#x27;Title&#x27;], dtype=&#x27;object&#x27;))])),\n",
       "                (&#x27;log_reg&#x27;,\n",
       "                 LogisticRegression(max_iter=1000, random_state=42))])</pre></div></div></div><div class=\"sk-serial\"><div class=\"sk-item\"><div class=\"sk-serial\"><div class=\"sk-item sk-dashed-wrapped\"><div class=\"sk-label-container\"><div class=\"sk-label sk-toggleable\"><input class=\"sk-toggleable__control sk-hidden--visually\" id=\"sk-estimator-id-45\" type=\"checkbox\" ><label for=\"sk-estimator-id-45\" class=\"sk-toggleable__label sk-toggleable__label-arrow\">preprocessor1: ColumnTransformer</label><div class=\"sk-toggleable__content\"><pre>ColumnTransformer(transformers=[(&#x27;log&#x27;,\n",
       "                                 Pipeline(steps=[(&#x27;simpleimputer&#x27;,\n",
       "                                                  SimpleImputer(strategy=&#x27;median&#x27;)),\n",
       "                                                 (&#x27;functiontransformer&#x27;,\n",
       "                                                  FunctionTransformer(feature_names_out=&#x27;one-to-one&#x27;,\n",
       "                                                                      func=&lt;ufunc &#x27;log1p&#x27;&gt;)),\n",
       "                                                 (&#x27;standardscaler&#x27;,\n",
       "                                                  StandardScaler())]),\n",
       "                                 [&#x27;FarePerPerson&#x27;, &#x27;Fare&#x27;, &#x27;SibSp&#x27;, &#x27;Parch&#x27;,\n",
       "                                  &#x27;FamilySize&#x27;, &#x27;Age*Class&#x27;]),\n",
       "                                (&#x27;num&#x27;,\n",
       "                                 Pipeline(steps=[(&#x27;simpleimputer&#x27;,\n",
       "                                                  Sim...\n",
       "                                 Index([&#x27;Age&#x27;, &#x27;Age*Class&#x27;, &#x27;FamilySize&#x27;, &#x27;Fare&#x27;, &#x27;FarePerPerson&#x27;, &#x27;HadCabin&#x27;,\n",
       "       &#x27;IsAlone&#x27;, &#x27;Parch&#x27;, &#x27;Pclass&#x27;, &#x27;SibSp&#x27;],\n",
       "      dtype=&#x27;object&#x27;)),\n",
       "                                (&#x27;cat&#x27;,\n",
       "                                 Pipeline(steps=[(&#x27;simpleimputer&#x27;,\n",
       "                                                  SimpleImputer(strategy=&#x27;most_frequent&#x27;)),\n",
       "                                                 (&#x27;onehotencoder&#x27;,\n",
       "                                                  OneHotEncoder(handle_unknown=&#x27;ignore&#x27;))]),\n",
       "                                 Index([&#x27;Cabin&#x27;, &#x27;CabinLetter&#x27;, &#x27;Embarked&#x27;, &#x27;Sex&#x27;, &#x27;TicketPrefix&#x27;, &#x27;Title&#x27;], dtype=&#x27;object&#x27;))])</pre></div></div></div><div class=\"sk-parallel\"><div class=\"sk-parallel-item\"><div class=\"sk-item\"><div class=\"sk-label-container\"><div class=\"sk-label sk-toggleable\"><input class=\"sk-toggleable__control sk-hidden--visually\" id=\"sk-estimator-id-46\" type=\"checkbox\" ><label for=\"sk-estimator-id-46\" class=\"sk-toggleable__label sk-toggleable__label-arrow\">log</label><div class=\"sk-toggleable__content\"><pre>[&#x27;FarePerPerson&#x27;, &#x27;Fare&#x27;, &#x27;SibSp&#x27;, &#x27;Parch&#x27;, &#x27;FamilySize&#x27;, &#x27;Age*Class&#x27;]</pre></div></div></div><div class=\"sk-serial\"><div class=\"sk-item\"><div class=\"sk-serial\"><div class=\"sk-item\"><div class=\"sk-estimator sk-toggleable\"><input class=\"sk-toggleable__control sk-hidden--visually\" id=\"sk-estimator-id-47\" type=\"checkbox\" ><label for=\"sk-estimator-id-47\" class=\"sk-toggleable__label sk-toggleable__label-arrow\">SimpleImputer</label><div class=\"sk-toggleable__content\"><pre>SimpleImputer(strategy=&#x27;median&#x27;)</pre></div></div></div><div class=\"sk-item\"><div class=\"sk-estimator sk-toggleable\"><input class=\"sk-toggleable__control sk-hidden--visually\" id=\"sk-estimator-id-48\" type=\"checkbox\" ><label for=\"sk-estimator-id-48\" class=\"sk-toggleable__label sk-toggleable__label-arrow\">FunctionTransformer</label><div class=\"sk-toggleable__content\"><pre>FunctionTransformer(feature_names_out=&#x27;one-to-one&#x27;, func=&lt;ufunc &#x27;log1p&#x27;&gt;)</pre></div></div></div><div class=\"sk-item\"><div class=\"sk-estimator sk-toggleable\"><input class=\"sk-toggleable__control sk-hidden--visually\" id=\"sk-estimator-id-49\" type=\"checkbox\" ><label for=\"sk-estimator-id-49\" class=\"sk-toggleable__label sk-toggleable__label-arrow\">StandardScaler</label><div class=\"sk-toggleable__content\"><pre>StandardScaler()</pre></div></div></div></div></div></div></div></div><div class=\"sk-parallel-item\"><div class=\"sk-item\"><div class=\"sk-label-container\"><div class=\"sk-label sk-toggleable\"><input class=\"sk-toggleable__control sk-hidden--visually\" id=\"sk-estimator-id-50\" type=\"checkbox\" ><label for=\"sk-estimator-id-50\" class=\"sk-toggleable__label sk-toggleable__label-arrow\">num</label><div class=\"sk-toggleable__content\"><pre>Index([&#x27;Age&#x27;, &#x27;Age*Class&#x27;, &#x27;FamilySize&#x27;, &#x27;Fare&#x27;, &#x27;FarePerPerson&#x27;, &#x27;HadCabin&#x27;,\n",
       "       &#x27;IsAlone&#x27;, &#x27;Parch&#x27;, &#x27;Pclass&#x27;, &#x27;SibSp&#x27;],\n",
       "      dtype=&#x27;object&#x27;)</pre></div></div></div><div class=\"sk-serial\"><div class=\"sk-item\"><div class=\"sk-serial\"><div class=\"sk-item\"><div class=\"sk-estimator sk-toggleable\"><input class=\"sk-toggleable__control sk-hidden--visually\" id=\"sk-estimator-id-51\" type=\"checkbox\" ><label for=\"sk-estimator-id-51\" class=\"sk-toggleable__label sk-toggleable__label-arrow\">SimpleImputer</label><div class=\"sk-toggleable__content\"><pre>SimpleImputer(strategy=&#x27;median&#x27;)</pre></div></div></div><div class=\"sk-item\"><div class=\"sk-estimator sk-toggleable\"><input class=\"sk-toggleable__control sk-hidden--visually\" id=\"sk-estimator-id-52\" type=\"checkbox\" ><label for=\"sk-estimator-id-52\" class=\"sk-toggleable__label sk-toggleable__label-arrow\">StandardScaler</label><div class=\"sk-toggleable__content\"><pre>StandardScaler()</pre></div></div></div></div></div></div></div></div><div class=\"sk-parallel-item\"><div class=\"sk-item\"><div class=\"sk-label-container\"><div class=\"sk-label sk-toggleable\"><input class=\"sk-toggleable__control sk-hidden--visually\" id=\"sk-estimator-id-53\" type=\"checkbox\" ><label for=\"sk-estimator-id-53\" class=\"sk-toggleable__label sk-toggleable__label-arrow\">cat</label><div class=\"sk-toggleable__content\"><pre>Index([&#x27;Cabin&#x27;, &#x27;CabinLetter&#x27;, &#x27;Embarked&#x27;, &#x27;Sex&#x27;, &#x27;TicketPrefix&#x27;, &#x27;Title&#x27;], dtype=&#x27;object&#x27;)</pre></div></div></div><div class=\"sk-serial\"><div class=\"sk-item\"><div class=\"sk-serial\"><div class=\"sk-item\"><div class=\"sk-estimator sk-toggleable\"><input class=\"sk-toggleable__control sk-hidden--visually\" id=\"sk-estimator-id-54\" type=\"checkbox\" ><label for=\"sk-estimator-id-54\" class=\"sk-toggleable__label sk-toggleable__label-arrow\">SimpleImputer</label><div class=\"sk-toggleable__content\"><pre>SimpleImputer(strategy=&#x27;most_frequent&#x27;)</pre></div></div></div><div class=\"sk-item\"><div class=\"sk-estimator sk-toggleable\"><input class=\"sk-toggleable__control sk-hidden--visually\" id=\"sk-estimator-id-55\" type=\"checkbox\" ><label for=\"sk-estimator-id-55\" class=\"sk-toggleable__label sk-toggleable__label-arrow\">OneHotEncoder</label><div class=\"sk-toggleable__content\"><pre>OneHotEncoder(handle_unknown=&#x27;ignore&#x27;)</pre></div></div></div></div></div></div></div></div></div></div><div class=\"sk-item\"><div class=\"sk-estimator sk-toggleable\"><input class=\"sk-toggleable__control sk-hidden--visually\" id=\"sk-estimator-id-56\" type=\"checkbox\" ><label for=\"sk-estimator-id-56\" class=\"sk-toggleable__label sk-toggleable__label-arrow\">LogisticRegression</label><div class=\"sk-toggleable__content\"><pre>LogisticRegression(max_iter=1000, random_state=42)</pre></div></div></div></div></div></div></div></div></div></div></div></div>"
      ],
      "text/plain": [
       "RandomizedSearchCV(cv=3,\n",
       "                   estimator=Pipeline(steps=[('preprocessor1',\n",
       "                                              ColumnTransformer(transformers=[('log',\n",
       "                                                                               Pipeline(steps=[('simpleimputer',\n",
       "                                                                                                SimpleImputer(strategy='median')),\n",
       "                                                                                               ('functiontransformer',\n",
       "                                                                                                FunctionTransformer(feature_names_out='one-to-one',\n",
       "                                                                                                                    func=<ufunc 'log1p'>)),\n",
       "                                                                                               ('standardscaler',\n",
       "                                                                                                StandardScaler())]),\n",
       "                                                                               ['FarePerPerson',\n",
       "                                                                                'Fare',\n",
       "                                                                                'SibSp',\n",
       "                                                                                'Parch',\n",
       "                                                                                'Fa...\n",
       "                                                                                                SimpleImputer(strategy='most_frequent')),\n",
       "                                                                                               ('onehotencoder',\n",
       "                                                                                                OneHotEncoder(handle_unknown='ignore'))]),\n",
       "                                                                               Index(['Cabin', 'CabinLetter', 'Embarked', 'Sex', 'TicketPrefix', 'Title'], dtype='object'))])),\n",
       "                                             ('log_reg',\n",
       "                                              LogisticRegression(max_iter=1000,\n",
       "                                                                 random_state=42))]),\n",
       "                   n_jobs=-1,\n",
       "                   param_distributions={'log_reg__C': [0.01, 0.1, 1, 10, 100],\n",
       "                                        'log_reg__penalty': ['l1', 'l2']},\n",
       "                   scoring='f1')"
      ]
     },
     "execution_count": 21,
     "metadata": {},
     "output_type": "execute_result"
    }
   ],
   "source": [
    "#RANDOMISE SEARCH FOR LOGISTIC REGRESSION\n",
    "from sklearn.linear_model import LogisticRegression\n",
    "\n",
    "log_params = {\n",
    "    'log_reg__penalty': ['l1', 'l2'],\n",
    "    'log_reg__C': [0.01, 0.1, 1, 10, 100]\n",
    "}\n",
    "\n",
    "log_search = RandomizedSearchCV(log_reg, log_params, cv=3, scoring='f1', n_jobs=-1, verbose=0)\n",
    "log_search.fit(X_train, y_train)"
   ]
  },
  {
   "cell_type": "code",
   "execution_count": 22,
   "id": "40c3a7c4",
   "metadata": {
    "execution": {
     "iopub.execute_input": "2025-04-25T08:53:09.712704Z",
     "iopub.status.busy": "2025-04-25T08:53:09.712372Z",
     "iopub.status.idle": "2025-04-25T08:53:09.718243Z",
     "shell.execute_reply": "2025-04-25T08:53:09.717043Z"
    },
    "papermill": {
     "duration": 0.019552,
     "end_time": "2025-04-25T08:53:09.719922",
     "exception": false,
     "start_time": "2025-04-25T08:53:09.700370",
     "status": "completed"
    },
    "tags": []
   },
   "outputs": [
    {
     "name": "stdout",
     "output_type": "stream",
     "text": [
      "Best RF: {'rf_clf__n_estimators': 500, 'rf_clf__min_samples_split': 10, 'rf_clf__min_samples_leaf': 4, 'rf_clf__max_features': 'sqrt', 'rf_clf__max_depth': 20, 'rf_clf__bootstrap': False}\n",
      "Best GB: {'gb_clf__subsample': 1.0, 'gb_clf__n_estimators': 100, 'gb_clf__min_samples_split': 5, 'gb_clf__min_samples_leaf': 1, 'gb_clf__max_depth': 3, 'gb_clf__learning_rate': 0.05}\n",
      "Best SVC: {'svc_clf__kernel': 'poly', 'svc_clf__gamma': 'scale', 'svc_clf__C': 10}\n",
      "Best LogReg: {'log_reg__penalty': 'l2', 'log_reg__C': 1}\n"
     ]
    }
   ],
   "source": [
    "print(\"Best RF:\", rf_search.best_params_)\n",
    "print(\"Best GB:\", gb_search.best_params_)\n",
    "print(\"Best SVC:\", svc_search.best_params_)\n",
    "print(\"Best LogReg:\", log_search.best_params_)"
   ]
  },
  {
   "cell_type": "markdown",
   "id": "4a30644c",
   "metadata": {
    "papermill": {
     "duration": 0.010184,
     "end_time": "2025-04-25T08:53:09.741871",
     "exception": false,
     "start_time": "2025-04-25T08:53:09.731687",
     "status": "completed"
    },
    "tags": []
   },
   "source": [
    "## **5) Assemble the four models in one model**"
   ]
  },
  {
   "cell_type": "code",
   "execution_count": 23,
   "id": "0d700a4a",
   "metadata": {
    "execution": {
     "iopub.execute_input": "2025-04-25T08:53:09.763912Z",
     "iopub.status.busy": "2025-04-25T08:53:09.763578Z",
     "iopub.status.idle": "2025-04-25T08:53:11.633592Z",
     "shell.execute_reply": "2025-04-25T08:53:11.632629Z"
    },
    "papermill": {
     "duration": 1.882967,
     "end_time": "2025-04-25T08:53:11.635199",
     "exception": false,
     "start_time": "2025-04-25T08:53:09.752232",
     "status": "completed"
    },
    "tags": []
   },
   "outputs": [
    {
     "name": "stdout",
     "output_type": "stream",
     "text": [
      "Recall: 0.827485380116959\n",
      "Precision: 0.884375\n",
      "F1 Score: 0.8549848942598187\n"
     ]
    }
   ],
   "source": [
    "#WE CAN ASSEMBLE ALL THE 4 MODELS TOGETHER\n",
    "from sklearn.ensemble import VotingClassifier\n",
    "\n",
    "model_1 = Pipeline([\n",
    "    (\"preprocessor\", preprocessor),\n",
    "    (\"rf\", RandomForestClassifier(n_estimators=500, max_depth=20, random_state=42, min_samples_split=10, min_samples_leaf=4, max_features='sqrt', bootstrap=False))\n",
    "])\n",
    "\n",
    "model_2 = Pipeline([\n",
    "    (\"preprocessor\", preprocessor),\n",
    "    (\"lr\", LogisticRegression(C=1, penalty='l2', random_state=42))\n",
    "])\n",
    "\n",
    "model_3 = Pipeline([\n",
    "    (\"preprocessor\", preprocessor),\n",
    "    (\"svc\", SVC(C=10, gamma='scale', kernel='poly', random_state=42, probability=True))\n",
    "])\n",
    "\n",
    "model_4 = Pipeline([\n",
    "    (\"preprocessor\", preprocessor),\n",
    "    (\"gb\", GradientBoostingClassifier(subsample=1.0, min_samples_split=5, min_samples_leaf=1, n_estimators=100, learning_rate=0.05, max_depth=3, random_state=42))\n",
    "])\n",
    "\n",
    "ensemble_model = VotingClassifier(estimators=[\n",
    "    ('rf', model_1), \n",
    "    ('lr', model_2), \n",
    "    ('svc', model_3), \n",
    "    ('gb', model_4)], voting='soft') \n",
    "\n",
    "ensemble_model.fit(X_train, y_train)\n",
    "\n",
    "y_train_pred = ensemble_model.predict(X_train)\n",
    "\n",
    "recall = recall_score(y_train, y_train_pred)\n",
    "precision = precision_score(y_train, y_train_pred)\n",
    "f1 = f1_score(y_train, y_train_pred)\n",
    "\n",
    "print(f\"Recall: {recall}\")\n",
    "print(f\"Precision: {precision}\")\n",
    "print(f\"F1 Score: {f1}\")"
   ]
  },
  {
   "cell_type": "markdown",
   "id": "0a451be7",
   "metadata": {
    "papermill": {
     "duration": 0.010169,
     "end_time": "2025-04-25T08:53:11.655834",
     "exception": false,
     "start_time": "2025-04-25T08:53:11.645665",
     "status": "completed"
    },
    "tags": []
   },
   "source": [
    "### We can see that we have create a solid model!!"
   ]
  }
 ],
 "metadata": {
  "kaggle": {
   "accelerator": "none",
   "dataSources": [
    {
     "databundleVersionId": 26502,
     "sourceId": 3136,
     "sourceType": "competition"
    }
   ],
   "dockerImageVersionId": 31012,
   "isGpuEnabled": false,
   "isInternetEnabled": true,
   "language": "python",
   "sourceType": "notebook"
  },
  "kernelspec": {
   "display_name": "Python 3",
   "language": "python",
   "name": "python3"
  },
  "language_info": {
   "codemirror_mode": {
    "name": "ipython",
    "version": 3
   },
   "file_extension": ".py",
   "mimetype": "text/x-python",
   "name": "python",
   "nbconvert_exporter": "python",
   "pygments_lexer": "ipython3",
   "version": "3.11.11"
  },
  "papermill": {
   "default_parameters": {},
   "duration": 77.767839,
   "end_time": "2025-04-25T08:53:14.288047",
   "environment_variables": {},
   "exception": null,
   "input_path": "__notebook__.ipynb",
   "output_path": "__notebook__.ipynb",
   "parameters": {},
   "start_time": "2025-04-25T08:51:56.520208",
   "version": "2.6.0"
  }
 },
 "nbformat": 4,
 "nbformat_minor": 5
}
